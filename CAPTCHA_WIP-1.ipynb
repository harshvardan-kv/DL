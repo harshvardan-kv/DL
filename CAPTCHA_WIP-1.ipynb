{
  "nbformat": 4,
  "nbformat_minor": 0,
  "metadata": {
    "colab": {
      "provenance": [],
      "collapsed_sections": [],
      "authorship_tag": "ABX9TyOZ2XuoD2CXH1qu56b0c3oe",
      "include_colab_link": true
    },
    "kernelspec": {
      "name": "python3",
      "display_name": "Python 3"
    },
    "language_info": {
      "name": "python"
    }
  },
  "cells": [
    {
      "cell_type": "markdown",
      "metadata": {
        "id": "view-in-github",
        "colab_type": "text"
      },
      "source": [
        "<a href=\"https://colab.research.google.com/github/harshvardan-kv/DL/blob/kag_commands/CAPTCHA_WIP-1.ipynb\" target=\"_parent\"><img src=\"https://colab.research.google.com/assets/colab-badge.svg\" alt=\"Open In Colab\"/></a>"
      ]
    },
    {
      "cell_type": "code",
      "source": [
        "token = \"****\"\n",
        "username = \"harshvardan-kv\"\n"
      ],
      "metadata": {
        "id": "JW5GnVqkoHAn"
      },
      "execution_count": 1,
      "outputs": []
    },
    {
      "cell_type": "code",
      "source": [
        "\n",
        "!git clone -b kag_commands https://{token}@github.com/{username}/DL\n"
      ],
      "metadata": {
        "colab": {
          "base_uri": "https://localhost:8080/"
        },
        "id": "9yuLStMzoOGb",
        "outputId": "e67fb886-2324-40cc-a1a7-bf9ff6cf6ece"
      },
      "execution_count": 2,
      "outputs": [
        {
          "output_type": "stream",
          "name": "stdout",
          "text": [
            "Cloning into 'DL'...\n",
            "remote: Enumerating objects: 83, done.\u001b[K\n",
            "remote: Counting objects: 100% (83/83), done.\u001b[K\n",
            "remote: Compressing objects: 100% (68/68), done.\u001b[K\n",
            "remote: Total 83 (delta 31), reused 44 (delta 8), pack-reused 0\u001b[K\n",
            "Unpacking objects: 100% (83/83), done.\n"
          ]
        }
      ]
    },
    {
      "cell_type": "code",
      "source": [
        "%cd DL"
      ],
      "metadata": {
        "colab": {
          "base_uri": "https://localhost:8080/"
        },
        "id": "Vnet0qQ-pHuF",
        "outputId": "ce29f5d8-4acd-45c4-a243-5c21583a3ee0"
      },
      "execution_count": 3,
      "outputs": [
        {
          "output_type": "stream",
          "name": "stdout",
          "text": [
            "/content/DL\n"
          ]
        }
      ]
    },
    {
      "cell_type": "code",
      "source": [
        "!unzip captcha-version-2-images.zip -d input"
      ],
      "metadata": {
        "id": "2snZNVbLpKQ3"
      },
      "execution_count": null,
      "outputs": []
    },
    {
      "cell_type": "code",
      "source": [
        "%%writefile .gitignore\n",
        ".gitignore\n",
        "__pycache__\n",
        "/sample_data/\n",
        "/.config/\n",
        "/input/"
      ],
      "metadata": {
        "colab": {
          "base_uri": "https://localhost:8080/"
        },
        "id": "U4BIdL9Zp4u-",
        "outputId": "c8daf826-25e4-451d-f6a6-272a8b489645"
      },
      "execution_count": 4,
      "outputs": [
        {
          "output_type": "stream",
          "name": "stdout",
          "text": [
            "Writing .gitignore\n"
          ]
        }
      ]
    },
    {
      "cell_type": "code",
      "source": [
        "!mkdir input"
      ],
      "metadata": {
        "id": "9i-bjYK_t3AH"
      },
      "execution_count": null,
      "outputs": []
    },
    {
      "cell_type": "code",
      "source": [
        "!unzip captcha-version-2-images.zip -d ./input/"
      ],
      "metadata": {
        "id": "oNfoLe7Kt5ib"
      },
      "execution_count": null,
      "outputs": []
    },
    {
      "cell_type": "code",
      "source": [
        "!git add ."
      ],
      "metadata": {
        "id": "pJ113Mh1uMxq"
      },
      "execution_count": 27,
      "outputs": []
    },
    {
      "cell_type": "code",
      "source": [
        "!git config --global user.email \"harshvardan.kv@gmail.com\"\n",
        "!git config --global user.name \"hv\""
      ],
      "metadata": {
        "id": "U1YbYB0ssY4O"
      },
      "execution_count": 3,
      "outputs": []
    },
    {
      "cell_type": "code",
      "source": [
        "!git commit -m \"files_5\""
      ],
      "metadata": {
        "colab": {
          "base_uri": "https://localhost:8080/"
        },
        "id": "bqjn97KUxvOT",
        "outputId": "a4fd8ca4-7efa-4a7e-ece8-f04a8c2e7301"
      },
      "execution_count": 28,
      "outputs": [
        {
          "output_type": "stream",
          "name": "stdout",
          "text": [
            "[kag_commands 0ade71c] files_5\n",
            " 4 files changed, 26 insertions(+), 27 deletions(-)\n"
          ]
        }
      ]
    },
    {
      "cell_type": "code",
      "source": [
        "!git status"
      ],
      "metadata": {
        "id": "5J96khtpx2hs",
        "colab": {
          "base_uri": "https://localhost:8080/"
        },
        "outputId": "520c755d-39da-4c4f-dd33-604bc1aa5cef"
      },
      "execution_count": 54,
      "outputs": [
        {
          "output_type": "stream",
          "name": "stdout",
          "text": [
            "On branch kag_commands\n",
            "Your branch is ahead of 'origin/kag_commands' by 1 commit.\n",
            "  (use \"git push\" to publish your local commits)\n",
            "\n",
            "nothing to commit, working tree clean\n"
          ]
        }
      ]
    },
    {
      "cell_type": "code",
      "source": [
        "!git remote add origin https://{token}@github.com/{username}/DL"
      ],
      "metadata": {
        "colab": {
          "base_uri": "https://localhost:8080/"
        },
        "id": "3WyLQlk4sR8h",
        "outputId": "641f18bc-5014-454a-b53c-9826092f4c7f"
      },
      "execution_count": 22,
      "outputs": [
        {
          "output_type": "stream",
          "name": "stdout",
          "text": [
            "fatal: remote origin already exists.\n"
          ]
        }
      ]
    },
    {
      "cell_type": "code",
      "source": [
        "!git push origin kag_commands"
      ],
      "metadata": {
        "colab": {
          "base_uri": "https://localhost:8080/"
        },
        "id": "rIh2y8Ndsh6s",
        "outputId": "359dc555-4149-4bfd-dd57-4071d0884982"
      },
      "execution_count": 29,
      "outputs": [
        {
          "output_type": "stream",
          "name": "stdout",
          "text": [
            "Counting objects: 7, done.\n",
            "Delta compression using up to 2 threads.\n",
            "Compressing objects:  14% (1/7)   \rCompressing objects:  28% (2/7)   \rCompressing objects:  42% (3/7)   \rCompressing objects:  57% (4/7)   \rCompressing objects:  71% (5/7)   \rCompressing objects:  85% (6/7)   \rCompressing objects: 100% (7/7)   \rCompressing objects: 100% (7/7), done.\n",
            "Writing objects:  14% (1/7)   \rWriting objects:  28% (2/7)   \rWriting objects:  42% (3/7)   \rWriting objects:  57% (4/7)   \rWriting objects:  71% (5/7)   \rWriting objects:  85% (6/7)   \rWriting objects: 100% (7/7)   \rWriting objects: 100% (7/7), 758 bytes | 758.00 KiB/s, done.\n",
            "Total 7 (delta 5), reused 0 (delta 0)\n",
            "remote: Resolving deltas: 100% (5/5), completed with 5 local objects.\u001b[K\n",
            "To https://github.com/harshvardan-kv/DL\n",
            "   5c59ad3..0ade71c  kag_commands -> kag_commands\n"
          ]
        }
      ]
    },
    {
      "cell_type": "code",
      "source": [
        "!pwd"
      ],
      "metadata": {
        "colab": {
          "base_uri": "https://localhost:8080/"
        },
        "id": "_u5ufDlBsv9K",
        "outputId": "628df583-5493-4b24-9ead-58ab0f7be7d3"
      },
      "execution_count": 24,
      "outputs": [
        {
          "output_type": "stream",
          "name": "stdout",
          "text": [
            "/content/DL\n"
          ]
        }
      ]
    },
    {
      "cell_type": "code",
      "source": [
        "from src.Dataset import Classification"
      ],
      "metadata": {
        "id": "f0Gwi7wFwE5J"
      },
      "execution_count": 25,
      "outputs": []
    },
    {
      "cell_type": "code",
      "source": [
        "\n",
        "os.path.join(cnf1.DATA_DIR,\"*.png\")\n"
      ],
      "metadata": {
        "colab": {
          "base_uri": "https://localhost:8080/",
          "height": 35
        },
        "id": "2cqP992fyMiL",
        "outputId": "9b3183e9-0ec9-4062-d5e7-e2ef9d6bc3f3"
      },
      "execution_count": 51,
      "outputs": [
        {
          "output_type": "execute_result",
          "data": {
            "text/plain": [
              "'../input/samples/*.png'"
            ],
            "application/vnd.google.colaboratory.intrinsic+json": {
              "type": "string"
            }
          },
          "metadata": {},
          "execution_count": 51
        }
      ]
    },
    {
      "cell_type": "code",
      "source": [
        "import os\n",
        "import glob\n",
        "import src.config as cnf1\n",
        "img_files = glob.glob(\"./input/samples/*.png\")"
      ],
      "metadata": {
        "id": "UNcByhP-xyh-"
      },
      "execution_count": 18,
      "outputs": []
    },
    {
      "cell_type": "code",
      "source": [
        "print(len(img_files))"
      ],
      "metadata": {
        "colab": {
          "base_uri": "https://localhost:8080/"
        },
        "id": "qIrTgGPmKJ8-",
        "outputId": "22725723-c736-4a2b-b7f8-21c54c7e612c"
      },
      "execution_count": 19,
      "outputs": [
        {
          "output_type": "stream",
          "name": "stdout",
          "text": [
            "1040\n"
          ]
        }
      ]
    },
    {
      "cell_type": "code",
      "source": [
        "im_list = img_files[0:5]\n",
        "f_name = [x.split(\"/\")[-1][:-4] for x in im_list]\n",
        "\n",
        "flist = [[c for c in x] for x in f_name]"
      ],
      "metadata": {
        "id": "XXmAhuorx-ut"
      },
      "execution_count": 149,
      "outputs": []
    },
    {
      "cell_type": "code",
      "source": [
        "flist"
      ],
      "metadata": {
        "colab": {
          "base_uri": "https://localhost:8080/"
        },
        "id": "k1d0iKU5CdmJ",
        "outputId": "a3d370f2-ebc0-48df-fe1e-1ad231a6a6ae"
      },
      "execution_count": 150,
      "outputs": [
        {
          "output_type": "execute_result",
          "data": {
            "text/plain": [
              "[['7', 'c', 'g', 'y', 'm'],\n",
              " ['8', '2', '3', 'p', '2'],\n",
              " ['w', '6', 'y', 'n', 'e'],\n",
              " ['8', 'n', 'p', 'e', '3'],\n",
              " ['p', 'y', 'b', 'e', 'e']]"
            ]
          },
          "metadata": {},
          "execution_count": 150
        }
      ]
    },
    {
      "cell_type": "code",
      "source": [
        "flat_list = [items for item in flist for items in item]"
      ],
      "metadata": {
        "id": "312oCM7N0Aaq"
      },
      "execution_count": 154,
      "outputs": []
    },
    {
      "cell_type": "code",
      "source": [
        "from sklearn import preprocessing\n",
        "\n",
        "lbl = preprocessing.LabelEncoder()\n",
        "lbl.fit(flat_list)"
      ],
      "metadata": {
        "colab": {
          "base_uri": "https://localhost:8080/"
        },
        "id": "-hN_eBqpFO_d",
        "outputId": "47c5009a-5a88-401e-c2f6-2c13a3e999d8"
      },
      "execution_count": 155,
      "outputs": [
        {
          "output_type": "execute_result",
          "data": {
            "text/plain": [
              "LabelEncoder()"
            ]
          },
          "metadata": {},
          "execution_count": 155
        }
      ]
    },
    {
      "cell_type": "code",
      "source": [
        "\n",
        "[lbl.transform(x) for x in flist]"
      ],
      "metadata": {
        "colab": {
          "base_uri": "https://localhost:8080/"
        },
        "id": "iehlRttUFeti",
        "outputId": "a77f8ea8-2600-460f-aa16-6332a87226f6"
      },
      "execution_count": 157,
      "outputs": [
        {
          "output_type": "execute_result",
          "data": {
            "text/plain": [
              "[array([ 3,  6,  8, 13,  9]),\n",
              " array([ 4,  0,  1, 11,  0]),\n",
              " array([12,  2, 13, 10,  7]),\n",
              " array([ 4, 10, 11,  7,  1]),\n",
              " array([11, 13,  5,  7,  7])]"
            ]
          },
          "metadata": {},
          "execution_count": 157
        }
      ]
    },
    {
      "cell_type": "code",
      "source": [
        "cl = Classification(img_files[0:5])"
      ],
      "metadata": {
        "id": "OZ8s7NmowLv7"
      },
      "execution_count": 67,
      "outputs": []
    },
    {
      "cell_type": "code",
      "source": [
        "len(cl)"
      ],
      "metadata": {
        "colab": {
          "base_uri": "https://localhost:8080/"
        },
        "id": "DE7MbvkXwahg",
        "outputId": "0b00e01f-10fe-4313-e4be-a45a9bb67c79"
      },
      "execution_count": 68,
      "outputs": [
        {
          "output_type": "execute_result",
          "data": {
            "text/plain": [
              "5"
            ]
          },
          "metadata": {},
          "execution_count": 68
        }
      ]
    },
    {
      "cell_type": "code",
      "source": [
        "!python ./src/train.py"
      ],
      "metadata": {
        "colab": {
          "base_uri": "https://localhost:8080/"
        },
        "id": "RUcWEBOmwbk7",
        "outputId": "0d459477-8207-45d2-84d3-2331c4ed38b9"
      },
      "execution_count": 172,
      "outputs": [
        {
          "output_type": "stream",
          "name": "stdout",
          "text": [
            "[[ 6  9 13 19 14]\n",
            " [ 7  1  2 16  1]\n",
            " [17  5 19 15 11]\n",
            " ...\n",
            " [ 1 16 12 16 15]\n",
            " [11 11  7 12 13]\n",
            " [12  7 12  7 13]]\n",
            "19\n",
            "['./input/samples/m457d.png', './input/samples/53wp3.png'] [[14  3  4  6 10]\n",
            " [ 4  2 17 16  2]] ['m457d', '53wp3']\n",
            "{'images': tensor([[[1.1700, 1.1700, 1.1700,  ..., 2.1804, 2.1804, 2.1804],\n",
            "         [1.1700, 1.1700, 1.1700,  ..., 2.1804, 2.1804, 2.1804],\n",
            "         [1.1700, 1.1700, 1.1700,  ..., 2.1804, 2.1804, 2.1804],\n",
            "         ...,\n",
            "         [1.2214, 1.2214, 1.2214,  ..., 2.2318, 2.2318, 2.2318],\n",
            "         [1.2214, 1.2214, 1.2214,  ..., 2.2318, 2.2318, 2.2318],\n",
            "         [1.2214, 1.2214, 1.2214,  ..., 2.2318, 2.2318, 2.2318]],\n",
            "\n",
            "        [[1.3256, 1.3256, 1.3256,  ..., 2.3585, 2.3585, 2.3585],\n",
            "         [1.3256, 1.3256, 1.3256,  ..., 2.3585, 2.3585, 2.3585],\n",
            "         [1.3256, 1.3256, 1.3256,  ..., 2.3585, 2.3585, 2.3585],\n",
            "         ...,\n",
            "         [1.3782, 1.3782, 1.3782,  ..., 2.4111, 2.4111, 2.4111],\n",
            "         [1.3782, 1.3782, 1.3782,  ..., 2.4111, 2.4111, 2.4111],\n",
            "         [1.3782, 1.3782, 1.3782,  ..., 2.4111, 2.4111, 2.4111]],\n",
            "\n",
            "        [[1.5420, 1.5420, 1.5420,  ..., 2.5703, 2.5703, 2.5703],\n",
            "         [1.5420, 1.5420, 1.5420,  ..., 2.5703, 2.5703, 2.5703],\n",
            "         [1.5420, 1.5420, 1.5420,  ..., 2.5703, 2.5703, 2.5703],\n",
            "         ...,\n",
            "         [1.5942, 1.5942, 1.5942,  ..., 2.6226, 2.6226, 2.6226],\n",
            "         [1.5942, 1.5942, 1.5942,  ..., 2.6226, 2.6226, 2.6226],\n",
            "         [1.5942, 1.5942, 1.5942,  ..., 2.6226, 2.6226, 2.6226]]]), 'targets': tensor([14.,  3.,  4.,  6., 10.])}\n"
          ]
        }
      ]
    },
    {
      "cell_type": "code",
      "source": [
        "from PIL import Image\n",
        "img = Image.open(img_files[0])\n",
        "image = np.array(img)"
      ],
      "metadata": {
        "id": "YaRKtl5Q0pLL"
      },
      "execution_count": 189,
      "outputs": []
    },
    {
      "cell_type": "code",
      "source": [
        "image.shape"
      ],
      "metadata": {
        "colab": {
          "base_uri": "https://localhost:8080/"
        },
        "id": "0Fzwihmv021C",
        "outputId": "ee4a3a65-fe6d-4d83-8a53-847df2896e84"
      },
      "execution_count": 192,
      "outputs": [
        {
          "output_type": "execute_result",
          "data": {
            "text/plain": [
              "(50, 200, 4)"
            ]
          },
          "metadata": {},
          "execution_count": 192
        }
      ]
    },
    {
      "cell_type": "code",
      "source": [
        "image = np.transpose(image,(2,0,1)).astype(np.float32)"
      ],
      "metadata": {
        "id": "a5fcg7pXmkPZ"
      },
      "execution_count": 195,
      "outputs": []
    },
    {
      "cell_type": "code",
      "source": [
        "image.shape"
      ],
      "metadata": {
        "colab": {
          "base_uri": "https://localhost:8080/"
        },
        "id": "uG5K-CC9mmqY",
        "outputId": "547fc4f9-7de0-45bc-b299-0083fb394329"
      },
      "execution_count": 196,
      "outputs": [
        {
          "output_type": "execute_result",
          "data": {
            "text/plain": [
              "(4, 50, 200)"
            ]
          },
          "metadata": {},
          "execution_count": 196
        }
      ]
    },
    {
      "cell_type": "code",
      "source": [
        "import matplotlib.pyplot as plt\n",
        "plt.imshow(np.transpose(image,(2,1,0)))\n"
      ],
      "metadata": {
        "colab": {
          "base_uri": "https://localhost:8080/",
          "height": 324
        },
        "id": "C784Q-wa3Cte",
        "outputId": "f0a56a73-783a-468e-a2da-1de174efac3b"
      },
      "execution_count": 201,
      "outputs": [
        {
          "output_type": "stream",
          "name": "stderr",
          "text": [
            "WARNING:matplotlib.image:Clipping input data to the valid range for imshow with RGB data ([0..1] for floats or [0..255] for integers).\n"
          ]
        },
        {
          "output_type": "execute_result",
          "data": {
            "text/plain": [
              "<matplotlib.image.AxesImage at 0x7f4730db2550>"
            ]
          },
          "metadata": {},
          "execution_count": 201
        },
        {
          "output_type": "display_data",
          "data": {
            "text/plain": [
              "<Figure size 432x288 with 1 Axes>"
            ],
            "image/png": "[encoded data removed]"
          },
          "metadata": {
            "needs_background": "light"
          }
        }
      ]
    },
    {
      "cell_type": "code",
      "source": [
        "image = img.resize((200,100),resample = Image.LANCZOS)"
      ],
      "metadata": {
        "id": "5pW4HzSv0_oz"
      },
      "execution_count": 110,
      "outputs": []
    },
    {
      "cell_type": "code",
      "source": [
        "display(img)"
      ],
      "metadata": {
        "colab": {
          "base_uri": "https://localhost:8080/",
          "height": 67
        },
        "id": "0uY91tLW1qtG",
        "outputId": "48ef3e1b-3ae4-45f4-f55b-f7460399751b"
      },
      "execution_count": 152,
      "outputs": [
        {
          "output_type": "display_data",
          "data": {
            "text/plain": [
              "<PIL.PngImagePlugin.PngImageFile image mode=RGBA size=200x50 at 0x7F4731540A50>"
            ],
            "image/png": "[encoded data removed]"
          },
          "metadata": {}
        }
      ]
    },
    {
      "cell_type": "code",
      "source": [
        "import numpy as np\n"
      ],
      "metadata": {
        "id": "wYgYXJPA1vHr"
      },
      "execution_count": 141,
      "outputs": []
    },
    {
      "cell_type": "code",
      "source": [
        "import albumentations\n",
        "aug = albumentations.Compose(\n",
        "      [\n",
        "        albumentations.Normalize(always_apply=True)\n",
        "      ]\n",
        "    )"
      ],
      "metadata": {
        "id": "EdLZlGay43BX"
      },
      "execution_count": 144,
      "outputs": []
    },
    {
      "cell_type": "code",
      "source": [
        "abc = [[1,2,3],[4,5,6]]"
      ],
      "metadata": {
        "id": "SNgg2psn-5uu"
      },
      "execution_count": 146,
      "outputs": []
    },
    {
      "cell_type": "code",
      "source": [
        "[items for item in abc for items in item]"
      ],
      "metadata": {
        "colab": {
          "base_uri": "https://localhost:8080/"
        },
        "id": "82jcEwAt_d62",
        "outputId": "012ba9b8-dc4f-4547-908c-04bd08c521a1"
      },
      "execution_count": 147,
      "outputs": [
        {
          "output_type": "execute_result",
          "data": {
            "text/plain": [
              "[1, 2, 3, 4, 5, 6]"
            ]
          },
          "metadata": {},
          "execution_count": 147
        }
      ]
    },
    {
      "cell_type": "code",
      "source": [
        "Image.fromarray(image-mean)"
      ],
      "metadata": {
        "colab": {
          "base_uri": "https://localhost:8080/",
          "height": 450
        },
        "id": "vDeABNGo-99l",
        "outputId": "52d9f6f8-7a20-4225-f19d-d49f8d5eac89"
      },
      "execution_count": 140,
      "outputs": [
        {
          "output_type": "error",
          "ename": "TypeError",
          "evalue": "ignored",
          "traceback": [
            "\u001b[0;31m---------------------------------------------------------------------------\u001b[0m",
            "\u001b[0;31mKeyError\u001b[0m                                  Traceback (most recent call last)",
            "\u001b[0;32m/usr/local/lib/python3.7/dist-packages/PIL/Image.py\u001b[0m in \u001b[0;36mfromarray\u001b[0;34m(obj, mode)\u001b[0m\n\u001b[1;32m   2713\u001b[0m         \u001b[0;32mtry\u001b[0m\u001b[0;34m:\u001b[0m\u001b[0;34m\u001b[0m\u001b[0;34m\u001b[0m\u001b[0m\n\u001b[0;32m-> 2714\u001b[0;31m             \u001b[0mmode\u001b[0m\u001b[0;34m,\u001b[0m \u001b[0mrawmode\u001b[0m \u001b[0;34m=\u001b[0m \u001b[0m_fromarray_typemap\u001b[0m\u001b[0;34m[\u001b[0m\u001b[0mtypekey\u001b[0m\u001b[0;34m]\u001b[0m\u001b[0;34m\u001b[0m\u001b[0;34m\u001b[0m\u001b[0m\n\u001b[0m\u001b[1;32m   2715\u001b[0m         \u001b[0;32mexcept\u001b[0m \u001b[0mKeyError\u001b[0m\u001b[0;34m:\u001b[0m\u001b[0;34m\u001b[0m\u001b[0;34m\u001b[0m\u001b[0m\n",
            "\u001b[0;31mKeyError\u001b[0m: ((1, 1, 4), '<f8')",
            "\nDuring handling of the above exception, another exception occurred:\n",
            "\u001b[0;31mTypeError\u001b[0m                                 Traceback (most recent call last)",
            "\u001b[0;32m<ipython-input-140-feeafef45135>\u001b[0m in \u001b[0;36m<module>\u001b[0;34m\u001b[0m\n\u001b[0;32m----> 1\u001b[0;31m \u001b[0mImage\u001b[0m\u001b[0;34m.\u001b[0m\u001b[0mfromarray\u001b[0m\u001b[0;34m(\u001b[0m\u001b[0mimage\u001b[0m\u001b[0;34m-\u001b[0m\u001b[0mmean\u001b[0m\u001b[0;34m)\u001b[0m\u001b[0;34m\u001b[0m\u001b[0;34m\u001b[0m\u001b[0m\n\u001b[0m",
            "\u001b[0;32m/usr/local/lib/python3.7/dist-packages/PIL/Image.py\u001b[0m in \u001b[0;36mfromarray\u001b[0;34m(obj, mode)\u001b[0m\n\u001b[1;32m   2714\u001b[0m             \u001b[0mmode\u001b[0m\u001b[0;34m,\u001b[0m \u001b[0mrawmode\u001b[0m \u001b[0;34m=\u001b[0m \u001b[0m_fromarray_typemap\u001b[0m\u001b[0;34m[\u001b[0m\u001b[0mtypekey\u001b[0m\u001b[0;34m]\u001b[0m\u001b[0;34m\u001b[0m\u001b[0;34m\u001b[0m\u001b[0m\n\u001b[1;32m   2715\u001b[0m         \u001b[0;32mexcept\u001b[0m \u001b[0mKeyError\u001b[0m\u001b[0;34m:\u001b[0m\u001b[0;34m\u001b[0m\u001b[0;34m\u001b[0m\u001b[0m\n\u001b[0;32m-> 2716\u001b[0;31m             \u001b[0;32mraise\u001b[0m \u001b[0mTypeError\u001b[0m\u001b[0;34m(\u001b[0m\u001b[0;34m\"Cannot handle this data type: %s, %s\"\u001b[0m \u001b[0;34m%\u001b[0m \u001b[0mtypekey\u001b[0m\u001b[0;34m)\u001b[0m\u001b[0;34m\u001b[0m\u001b[0;34m\u001b[0m\u001b[0m\n\u001b[0m\u001b[1;32m   2717\u001b[0m     \u001b[0;32melse\u001b[0m\u001b[0;34m:\u001b[0m\u001b[0;34m\u001b[0m\u001b[0;34m\u001b[0m\u001b[0m\n\u001b[1;32m   2718\u001b[0m         \u001b[0mrawmode\u001b[0m \u001b[0;34m=\u001b[0m \u001b[0mmode\u001b[0m\u001b[0;34m\u001b[0m\u001b[0;34m\u001b[0m\u001b[0m\n",
            "\u001b[0;31mTypeError\u001b[0m: Cannot handle this data type: (1, 1, 4), <f8"
          ]
        }
      ]
    },
    {
      "cell_type": "code",
      "source": [
        "aug(image = image)"
      ],
      "metadata": {
        "colab": {
          "base_uri": "https://localhost:8080/",
          "height": 346
        },
        "id": "F4wcEPo75bu3",
        "outputId": "5333488f-13f6-4ccb-9e00-0e267bed8300"
      },
      "execution_count": 128,
      "outputs": [
        {
          "output_type": "error",
          "ename": "ValueError",
          "evalue": "ignored",
          "traceback": [
            "\u001b[0;31m---------------------------------------------------------------------------\u001b[0m",
            "\u001b[0;31mValueError\u001b[0m                                Traceback (most recent call last)",
            "\u001b[0;32m<ipython-input-128-afdcf8f1dbcb>\u001b[0m in \u001b[0;36m<module>\u001b[0;34m\u001b[0m\n\u001b[0;32m----> 1\u001b[0;31m \u001b[0maug\u001b[0m\u001b[0;34m(\u001b[0m\u001b[0mimage\u001b[0m \u001b[0;34m=\u001b[0m \u001b[0mimage\u001b[0m\u001b[0;34m)\u001b[0m\u001b[0;34m\u001b[0m\u001b[0;34m\u001b[0m\u001b[0m\n\u001b[0m",
            "\u001b[0;32m/usr/local/lib/python3.7/dist-packages/albumentations/core/composition.py\u001b[0m in \u001b[0;36m__call__\u001b[0;34m(self, force_apply, *args, **data)\u001b[0m\n\u001b[1;32m    203\u001b[0m \u001b[0;34m\u001b[0m\u001b[0m\n\u001b[1;32m    204\u001b[0m         \u001b[0;32mfor\u001b[0m \u001b[0midx\u001b[0m\u001b[0;34m,\u001b[0m \u001b[0mt\u001b[0m \u001b[0;32min\u001b[0m \u001b[0menumerate\u001b[0m\u001b[0;34m(\u001b[0m\u001b[0mtransforms\u001b[0m\u001b[0;34m)\u001b[0m\u001b[0;34m:\u001b[0m\u001b[0;34m\u001b[0m\u001b[0;34m\u001b[0m\u001b[0m\n\u001b[0;32m--> 205\u001b[0;31m             \u001b[0mdata\u001b[0m \u001b[0;34m=\u001b[0m \u001b[0mt\u001b[0m\u001b[0;34m(\u001b[0m\u001b[0mforce_apply\u001b[0m\u001b[0;34m=\u001b[0m\u001b[0mforce_apply\u001b[0m\u001b[0;34m,\u001b[0m \u001b[0;34m**\u001b[0m\u001b[0mdata\u001b[0m\u001b[0;34m)\u001b[0m\u001b[0;34m\u001b[0m\u001b[0;34m\u001b[0m\u001b[0m\n\u001b[0m\u001b[1;32m    206\u001b[0m \u001b[0;34m\u001b[0m\u001b[0m\n\u001b[1;32m    207\u001b[0m             \u001b[0;32mif\u001b[0m \u001b[0mcheck_each_transform\u001b[0m\u001b[0;34m:\u001b[0m\u001b[0;34m\u001b[0m\u001b[0;34m\u001b[0m\u001b[0m\n",
            "\u001b[0;32m/usr/local/lib/python3.7/dist-packages/albumentations/core/transforms_interface.py\u001b[0m in \u001b[0;36m__call__\u001b[0;34m(self, force_apply, *args, **kwargs)\u001b[0m\n\u001b[1;32m     96\u001b[0m                     )\n\u001b[1;32m     97\u001b[0m                 \u001b[0mkwargs\u001b[0m\u001b[0;34m[\u001b[0m\u001b[0mself\u001b[0m\u001b[0;34m.\u001b[0m\u001b[0msave_key\u001b[0m\u001b[0;34m]\u001b[0m\u001b[0;34m[\u001b[0m\u001b[0mid\u001b[0m\u001b[0;34m(\u001b[0m\u001b[0mself\u001b[0m\u001b[0;34m)\u001b[0m\u001b[0;34m]\u001b[0m \u001b[0;34m=\u001b[0m \u001b[0mdeepcopy\u001b[0m\u001b[0;34m(\u001b[0m\u001b[0mparams\u001b[0m\u001b[0;34m)\u001b[0m\u001b[0;34m\u001b[0m\u001b[0;34m\u001b[0m\u001b[0m\n\u001b[0;32m---> 98\u001b[0;31m             \u001b[0;32mreturn\u001b[0m \u001b[0mself\u001b[0m\u001b[0;34m.\u001b[0m\u001b[0mapply_with_params\u001b[0m\u001b[0;34m(\u001b[0m\u001b[0mparams\u001b[0m\u001b[0;34m,\u001b[0m \u001b[0;34m**\u001b[0m\u001b[0mkwargs\u001b[0m\u001b[0;34m)\u001b[0m\u001b[0;34m\u001b[0m\u001b[0;34m\u001b[0m\u001b[0m\n\u001b[0m\u001b[1;32m     99\u001b[0m \u001b[0;34m\u001b[0m\u001b[0m\n\u001b[1;32m    100\u001b[0m         \u001b[0;32mreturn\u001b[0m \u001b[0mkwargs\u001b[0m\u001b[0;34m\u001b[0m\u001b[0;34m\u001b[0m\u001b[0m\n",
            "\u001b[0;32m/usr/local/lib/python3.7/dist-packages/albumentations/core/transforms_interface.py\u001b[0m in \u001b[0;36mapply_with_params\u001b[0;34m(self, params, **kwargs)\u001b[0m\n\u001b[1;32m    109\u001b[0m                 \u001b[0mtarget_function\u001b[0m \u001b[0;34m=\u001b[0m \u001b[0mself\u001b[0m\u001b[0;34m.\u001b[0m\u001b[0m_get_target_function\u001b[0m\u001b[0;34m(\u001b[0m\u001b[0mkey\u001b[0m\u001b[0;34m)\u001b[0m\u001b[0;34m\u001b[0m\u001b[0;34m\u001b[0m\u001b[0m\n\u001b[1;32m    110\u001b[0m                 \u001b[0mtarget_dependencies\u001b[0m \u001b[0;34m=\u001b[0m \u001b[0;34m{\u001b[0m\u001b[0mk\u001b[0m\u001b[0;34m:\u001b[0m \u001b[0mkwargs\u001b[0m\u001b[0;34m[\u001b[0m\u001b[0mk\u001b[0m\u001b[0;34m]\u001b[0m \u001b[0;32mfor\u001b[0m \u001b[0mk\u001b[0m \u001b[0;32min\u001b[0m \u001b[0mself\u001b[0m\u001b[0;34m.\u001b[0m\u001b[0mtarget_dependence\u001b[0m\u001b[0;34m.\u001b[0m\u001b[0mget\u001b[0m\u001b[0;34m(\u001b[0m\u001b[0mkey\u001b[0m\u001b[0;34m,\u001b[0m \u001b[0;34m[\u001b[0m\u001b[0;34m]\u001b[0m\u001b[0;34m)\u001b[0m\u001b[0;34m}\u001b[0m\u001b[0;34m\u001b[0m\u001b[0;34m\u001b[0m\u001b[0m\n\u001b[0;32m--> 111\u001b[0;31m                 \u001b[0mres\u001b[0m\u001b[0;34m[\u001b[0m\u001b[0mkey\u001b[0m\u001b[0;34m]\u001b[0m \u001b[0;34m=\u001b[0m \u001b[0mtarget_function\u001b[0m\u001b[0;34m(\u001b[0m\u001b[0marg\u001b[0m\u001b[0;34m,\u001b[0m \u001b[0;34m**\u001b[0m\u001b[0mdict\u001b[0m\u001b[0;34m(\u001b[0m\u001b[0mparams\u001b[0m\u001b[0;34m,\u001b[0m \u001b[0;34m**\u001b[0m\u001b[0mtarget_dependencies\u001b[0m\u001b[0;34m)\u001b[0m\u001b[0;34m)\u001b[0m\u001b[0;34m\u001b[0m\u001b[0;34m\u001b[0m\u001b[0m\n\u001b[0m\u001b[1;32m    112\u001b[0m             \u001b[0;32melse\u001b[0m\u001b[0;34m:\u001b[0m\u001b[0;34m\u001b[0m\u001b[0;34m\u001b[0m\u001b[0m\n\u001b[1;32m    113\u001b[0m                 \u001b[0mres\u001b[0m\u001b[0;34m[\u001b[0m\u001b[0mkey\u001b[0m\u001b[0;34m]\u001b[0m \u001b[0;34m=\u001b[0m \u001b[0;32mNone\u001b[0m\u001b[0;34m\u001b[0m\u001b[0;34m\u001b[0m\u001b[0m\n",
            "\u001b[0;32m/usr/local/lib/python3.7/dist-packages/albumentations/augmentations/transforms.py\u001b[0m in \u001b[0;36mapply\u001b[0;34m(self, image, **params)\u001b[0m\n\u001b[1;32m    678\u001b[0m \u001b[0;34m\u001b[0m\u001b[0m\n\u001b[1;32m    679\u001b[0m     \u001b[0;32mdef\u001b[0m \u001b[0mapply\u001b[0m\u001b[0;34m(\u001b[0m\u001b[0mself\u001b[0m\u001b[0;34m,\u001b[0m \u001b[0mimage\u001b[0m\u001b[0;34m,\u001b[0m \u001b[0;34m**\u001b[0m\u001b[0mparams\u001b[0m\u001b[0;34m)\u001b[0m\u001b[0;34m:\u001b[0m\u001b[0;34m\u001b[0m\u001b[0;34m\u001b[0m\u001b[0m\n\u001b[0;32m--> 680\u001b[0;31m         \u001b[0;32mreturn\u001b[0m \u001b[0mF\u001b[0m\u001b[0;34m.\u001b[0m\u001b[0mnormalize\u001b[0m\u001b[0;34m(\u001b[0m\u001b[0mimage\u001b[0m\u001b[0;34m,\u001b[0m \u001b[0mself\u001b[0m\u001b[0;34m.\u001b[0m\u001b[0mmean\u001b[0m\u001b[0;34m,\u001b[0m \u001b[0mself\u001b[0m\u001b[0;34m.\u001b[0m\u001b[0mstd\u001b[0m\u001b[0;34m,\u001b[0m \u001b[0mself\u001b[0m\u001b[0;34m.\u001b[0m\u001b[0mmax_pixel_value\u001b[0m\u001b[0;34m)\u001b[0m\u001b[0;34m\u001b[0m\u001b[0;34m\u001b[0m\u001b[0m\n\u001b[0m\u001b[1;32m    681\u001b[0m \u001b[0;34m\u001b[0m\u001b[0m\n\u001b[1;32m    682\u001b[0m     \u001b[0;32mdef\u001b[0m \u001b[0mget_transform_init_args_names\u001b[0m\u001b[0;34m(\u001b[0m\u001b[0mself\u001b[0m\u001b[0;34m)\u001b[0m\u001b[0;34m:\u001b[0m\u001b[0;34m\u001b[0m\u001b[0;34m\u001b[0m\u001b[0m\n",
            "\u001b[0;32m/usr/local/lib/python3.7/dist-packages/albumentations/augmentations/functional.py\u001b[0m in \u001b[0;36mnormalize\u001b[0;34m(img, mean, std, max_pixel_value)\u001b[0m\n\u001b[1;32m    255\u001b[0m \u001b[0;34m\u001b[0m\u001b[0m\n\u001b[1;32m    256\u001b[0m     \u001b[0mimg\u001b[0m \u001b[0;34m=\u001b[0m \u001b[0mimg\u001b[0m\u001b[0;34m.\u001b[0m\u001b[0mastype\u001b[0m\u001b[0;34m(\u001b[0m\u001b[0mnp\u001b[0m\u001b[0;34m.\u001b[0m\u001b[0mfloat32\u001b[0m\u001b[0;34m)\u001b[0m\u001b[0;34m\u001b[0m\u001b[0;34m\u001b[0m\u001b[0m\n\u001b[0;32m--> 257\u001b[0;31m     \u001b[0mimg\u001b[0m \u001b[0;34m-=\u001b[0m \u001b[0mmean\u001b[0m\u001b[0;34m\u001b[0m\u001b[0;34m\u001b[0m\u001b[0m\n\u001b[0m\u001b[1;32m    258\u001b[0m     \u001b[0mimg\u001b[0m \u001b[0;34m*=\u001b[0m \u001b[0mdenominator\u001b[0m\u001b[0;34m\u001b[0m\u001b[0;34m\u001b[0m\u001b[0m\n\u001b[1;32m    259\u001b[0m     \u001b[0;32mreturn\u001b[0m \u001b[0mimg\u001b[0m\u001b[0;34m\u001b[0m\u001b[0;34m\u001b[0m\u001b[0m\n",
            "\u001b[0;31mValueError\u001b[0m: operands could not be broadcast together with shapes (100,200,4) (3,) (100,200,4) "
          ]
        }
      ]
    },
    {
      "cell_type": "code",
      "source": [
        "!cd DL"
      ],
      "metadata": {
        "colab": {
          "base_uri": "https://localhost:8080/"
        },
        "id": "cZUasJ7P91ku",
        "outputId": "ef3d13f4-6fb1-4403-c7b6-c21fae02f5fd"
      },
      "execution_count": 176,
      "outputs": [
        {
          "output_type": "stream",
          "name": "stdout",
          "text": [
            "/bin/bash: line 0: cd: DL: No such file or directory\n"
          ]
        }
      ]
    },
    {
      "cell_type": "code",
      "source": [
        "%cd .."
      ],
      "metadata": {
        "colab": {
          "base_uri": "https://localhost:8080/"
        },
        "id": "S_0_l-cvkYCN",
        "outputId": "6e158cc1-2a2e-40b0-e2bd-b2c87baff42c"
      },
      "execution_count": 181,
      "outputs": [
        {
          "output_type": "stream",
          "name": "stdout",
          "text": [
            "/content/DL\n"
          ]
        }
      ]
    },
    {
      "cell_type": "code",
      "source": [
        "import os\n",
        "import glob\n",
        "import torch\n",
        "import numpy as np\n",
        "from sklearn import preprocessing\n",
        "from sklearn import model_selection\n",
        "from sklearn import metrics\n",
        "\n",
        "import config\n",
        "import Dataset\n",
        "\n",
        "\n",
        "image_files = glob.glob(os.path.join(config.DATA_DIR,\"*.png\"))\n",
        "target_orig = [x.split(\"/\")[-1][:-4] for x in image_files]\n",
        "targets = [[c for c in x] for x in target_orig]\n",
        "targets_flat = [items for item in targets for items in item]\n",
        "\n",
        "lbl_enc = preprocessing.LabelEncoder()\n",
        "lbl_enc.fit(targets_flat)\n",
        "\n",
        "target_enc = [lbl_enc.transform(x) for x in targets]\n",
        "target_enc = np.array(target_enc)+1\n",
        "\n",
        "train_imgs,test_imgs, train_targets, test_targets, train_orig_targets , test_orig_targets  = model_selection.train_test_split(image_files,target_enc,target_orig,test_size = 0.1, random_state=42)\n",
        "\n",
        "\n",
        "train_Dataset = Dataset.Classification(train_imgs,train_targets)\n",
        "print(train_Dataset[0][\"images\"].shape)\n",
        "\n",
        "\n",
        "\n",
        "\n"
      ],
      "metadata": {
        "colab": {
          "base_uri": "https://localhost:8080/"
        },
        "id": "bta3Jngtkasi",
        "outputId": "6987e931-d246-47a2-9dc6-a20e59400d4a"
      },
      "execution_count": 193,
      "outputs": [
        {
          "output_type": "stream",
          "name": "stdout",
          "text": [
            "torch.Size([3, 50, 200])\n"
          ]
        }
      ]
    },
    {
      "cell_type": "code",
      "source": [
        "npimg = train_Dataset[100][\"images\"].numpy()"
      ],
      "metadata": {
        "id": "wUaf4rxNkcqm"
      },
      "execution_count": 204,
      "outputs": []
    },
    {
      "cell_type": "code",
      "source": [
        "plt.imshow(np.transpose(npimg,(1,2,0)))"
      ],
      "metadata": {
        "colab": {
          "base_uri": "https://localhost:8080/",
          "height": 190
        },
        "id": "_st1_4RflwQY",
        "outputId": "bcdef102-69bd-467a-91eb-2ec46a0f3559"
      },
      "execution_count": 205,
      "outputs": [
        {
          "output_type": "stream",
          "name": "stderr",
          "text": [
            "WARNING:matplotlib.image:Clipping input data to the valid range for imshow with RGB data ([0..1] for floats or [0..255] for integers).\n"
          ]
        },
        {
          "output_type": "execute_result",
          "data": {
            "text/plain": [
              "<matplotlib.image.AxesImage at 0x7f4730cf5d50>"
            ]
          },
          "metadata": {},
          "execution_count": 205
        },
        {
          "output_type": "display_data",
          "data": {
            "text/plain": [
              "<Figure size 432x288 with 1 Axes>"
            ],
            "image/png": "[encoded data removed]"
          },
          "metadata": {
            "needs_background": "light"
          }
        }
      ]
    },
    {
      "cell_type": "code",
      "source": [
        "d = [item for item in range(10000000)]"
      ],
      "metadata": {
        "id": "OvWp96eYnndL"
      },
      "execution_count": 214,
      "outputs": []
    },
    {
      "cell_type": "code",
      "source": [
        "from tqdm import tqdm\n",
        "\n",
        "tk = tqdm(d,total=len(d))\n",
        "for data in tk:\n",
        "  pass"
      ],
      "metadata": {
        "colab": {
          "base_uri": "https://localhost:8080/"
        },
        "id": "9FV4T3dftqZ_",
        "outputId": "a248f977-150d-427f-b72f-5e938d60561c"
      },
      "execution_count": 216,
      "outputs": [
        {
          "output_type": "stream",
          "name": "stderr",
          "text": [
            "100%|██████████| 10000000/10000000 [00:02<00:00, 4162276.12it/s]\n"
          ]
        }
      ]
    },
    {
      "cell_type": "code",
      "source": [
        "!python ./src/model.py"
      ],
      "metadata": {
        "colab": {
          "base_uri": "https://localhost:8080/"
        },
        "id": "7c-whDR5t2cJ",
        "outputId": "01ac0763-9ef9-4717-ccf3-8f56e6bc8dce"
      },
      "execution_count": 230,
      "outputs": [
        {
          "output_type": "stream",
          "name": "stdout",
          "text": [
            "5 3 75 300\n",
            "torch.Size([5, 128, 75, 300])\n",
            "torch.Size([5, 128, 37, 150])\n",
            "torch.Size([5, 64, 37, 150])\n",
            "torch.Size([5, 64, 18, 75])\n",
            "torch.Size([5, 75, 64, 18])\n",
            "torch.Size([5, 75, 1152])\n",
            "torch.Size([5, 75, 64])\n",
            "torch.Size([5, 75, 64])\n",
            "torch.Size([5, 75, 45])\n",
            "torch.Size([75, 5, 45])\n",
            "tensor([75, 75, 75, 75, 75], dtype=torch.int32)\n",
            "tensor([5, 5, 5, 5, 5], dtype=torch.int32)\n"
          ]
        }
      ]
    },
    {
      "cell_type": "code",
      "source": [
        "!python ./src/train.py"
      ],
      "metadata": {
        "colab": {
          "base_uri": "https://localhost:8080/"
        },
        "id": "qogcScWY0qj6",
        "outputId": "629cc0d4-1be5-4788-e53a-8b8cef2bb8ee"
      },
      "execution_count": 17,
      "outputs": [
        {
          "output_type": "stream",
          "name": "stdout",
          "text": [
            "100% 117/117 [00:02<00:00, 57.63it/s]\n",
            "100% 117/117 [00:02<00:00, 57.29it/s]\n",
            "100% 117/117 [00:02<00:00, 55.44it/s]\n",
            "100% 117/117 [00:02<00:00, 56.27it/s]\n",
            "100% 117/117 [00:02<00:00, 55.93it/s]\n",
            "100% 117/117 [00:02<00:00, 57.32it/s]\n",
            "100% 117/117 [00:02<00:00, 57.01it/s]\n",
            "100% 117/117 [00:02<00:00, 57.94it/s]\n",
            "100% 117/117 [00:02<00:00, 56.76it/s]\n",
            "100% 117/117 [00:02<00:00, 57.31it/s]\n",
            "100% 117/117 [00:02<00:00, 55.41it/s]\n",
            "100% 117/117 [00:02<00:00, 57.22it/s]\n",
            "100% 117/117 [00:02<00:00, 57.32it/s]\n",
            "100% 117/117 [00:02<00:00, 57.56it/s]\n",
            "100% 117/117 [00:02<00:00, 55.91it/s]\n",
            "100% 117/117 [00:02<00:00, 57.47it/s]\n",
            "100% 117/117 [00:02<00:00, 57.42it/s]\n",
            "100% 117/117 [00:02<00:00, 56.34it/s]\n",
            "100% 117/117 [00:02<00:00, 55.48it/s]\n",
            "100% 117/117 [00:02<00:00, 56.82it/s]\n",
            "100% 117/117 [00:02<00:00, 56.83it/s]\n",
            "100% 117/117 [00:02<00:00, 56.52it/s]\n",
            "100% 117/117 [00:02<00:00, 55.78it/s]\n",
            "100% 117/117 [00:02<00:00, 57.37it/s]\n",
            "100% 117/117 [00:02<00:00, 57.41it/s]\n",
            "100% 117/117 [00:02<00:00, 57.43it/s]\n",
            "100% 117/117 [00:02<00:00, 55.69it/s]\n",
            "100% 117/117 [00:02<00:00, 56.52it/s]\n",
            "100% 117/117 [00:02<00:00, 54.88it/s]\n",
            "100% 117/117 [00:02<00:00, 56.89it/s]\n",
            "100% 117/117 [00:02<00:00, 56.24it/s]\n",
            "100% 117/117 [00:02<00:00, 55.97it/s]\n",
            "100% 117/117 [00:02<00:00, 54.27it/s]\n",
            "100% 117/117 [00:02<00:00, 55.16it/s]\n",
            "100% 117/117 [00:02<00:00, 55.04it/s]\n",
            "100% 117/117 [00:02<00:00, 56.57it/s]\n",
            "100% 117/117 [00:02<00:00, 55.39it/s]\n",
            "100% 117/117 [00:02<00:00, 57.64it/s]\n",
            "100% 117/117 [00:02<00:00, 56.76it/s]\n",
            "100% 117/117 [00:02<00:00, 51.42it/s]\n",
            "100% 117/117 [00:02<00:00, 41.40it/s]\n",
            "100% 117/117 [00:02<00:00, 56.71it/s]\n",
            "100% 117/117 [00:02<00:00, 57.52it/s]\n",
            "100% 117/117 [00:02<00:00, 57.15it/s]\n",
            "100% 117/117 [00:02<00:00, 49.03it/s]\n",
            "100% 117/117 [00:02<00:00, 56.43it/s]\n",
            "100% 117/117 [00:02<00:00, 54.32it/s]\n",
            "100% 117/117 [00:02<00:00, 56.30it/s]\n",
            "100% 117/117 [00:02<00:00, 55.99it/s]\n",
            "100% 117/117 [00:02<00:00, 56.98it/s]\n",
            "100% 117/117 [00:02<00:00, 56.09it/s]\n",
            "100% 117/117 [00:02<00:00, 54.81it/s]\n",
            "100% 117/117 [00:02<00:00, 50.33it/s]\n",
            "100% 117/117 [00:02<00:00, 56.83it/s]\n",
            "100% 117/117 [00:02<00:00, 56.74it/s]\n",
            "100% 117/117 [00:02<00:00, 57.91it/s]\n",
            "100% 117/117 [00:02<00:00, 56.73it/s]\n",
            "100% 117/117 [00:02<00:00, 56.93it/s]\n",
            "100% 117/117 [00:02<00:00, 56.54it/s]\n",
            "100% 117/117 [00:02<00:00, 57.77it/s]\n",
            "100% 117/117 [00:02<00:00, 57.51it/s]\n",
            "100% 117/117 [00:02<00:00, 55.63it/s]\n",
            "100% 117/117 [00:02<00:00, 56.36it/s]\n",
            "100% 117/117 [00:02<00:00, 57.41it/s]\n",
            "100% 117/117 [00:02<00:00, 56.70it/s]\n",
            "100% 117/117 [00:02<00:00, 56.03it/s]\n",
            "100% 117/117 [00:02<00:00, 55.44it/s]\n",
            "100% 117/117 [00:02<00:00, 57.06it/s]\n",
            "100% 117/117 [00:02<00:00, 55.98it/s]\n",
            "100% 117/117 [00:02<00:00, 56.23it/s]\n",
            "100% 117/117 [00:02<00:00, 56.20it/s]\n",
            "100% 117/117 [00:02<00:00, 57.37it/s]\n",
            "100% 117/117 [00:02<00:00, 56.06it/s]\n",
            "100% 117/117 [00:02<00:00, 57.42it/s]\n",
            "100% 117/117 [00:02<00:00, 57.44it/s]\n",
            "100% 117/117 [00:02<00:00, 55.64it/s]\n",
            "100% 117/117 [00:02<00:00, 55.62it/s]\n",
            "100% 117/117 [00:02<00:00, 56.32it/s]\n",
            "100% 117/117 [00:02<00:00, 56.44it/s]\n",
            "100% 117/117 [00:02<00:00, 55.95it/s]\n",
            "100% 117/117 [00:02<00:00, 55.92it/s]\n",
            "100% 117/117 [00:02<00:00, 57.18it/s]\n",
            "100% 117/117 [00:02<00:00, 55.67it/s]\n",
            "100% 117/117 [00:02<00:00, 56.04it/s]\n",
            "100% 117/117 [00:02<00:00, 56.32it/s]\n",
            "100% 117/117 [00:02<00:00, 56.90it/s]\n",
            "100% 117/117 [00:02<00:00, 55.74it/s]\n",
            "100% 117/117 [00:02<00:00, 56.09it/s]\n",
            "100% 117/117 [00:02<00:00, 56.06it/s]\n",
            "100% 117/117 [00:02<00:00, 57.60it/s]\n",
            "100% 117/117 [00:02<00:00, 54.60it/s]\n",
            "100% 117/117 [00:02<00:00, 57.27it/s]\n",
            "100% 117/117 [00:02<00:00, 57.40it/s]\n",
            "100% 117/117 [00:02<00:00, 56.92it/s]\n",
            "100% 117/117 [00:02<00:00, 56.35it/s]\n",
            "100% 117/117 [00:01<00:00, 58.63it/s]\n",
            "100% 117/117 [00:02<00:00, 56.71it/s]\n",
            "100% 117/117 [00:02<00:00, 57.32it/s]\n",
            "100% 117/117 [00:02<00:00, 56.13it/s]\n",
            "100% 117/117 [00:02<00:00, 56.37it/s]\n",
            "100% 117/117 [00:02<00:00, 56.30it/s]\n",
            "100% 117/117 [00:02<00:00, 55.36it/s]\n",
            "100% 117/117 [00:02<00:00, 55.44it/s]\n",
            "100% 117/117 [00:02<00:00, 55.73it/s]\n",
            "100% 117/117 [00:02<00:00, 54.69it/s]\n",
            "100% 117/117 [00:02<00:00, 54.32it/s]\n",
            "100% 117/117 [00:02<00:00, 55.60it/s]\n",
            "100% 117/117 [00:02<00:00, 56.06it/s]\n",
            "100% 117/117 [00:02<00:00, 55.80it/s]\n",
            "100% 117/117 [00:02<00:00, 56.24it/s]\n",
            "100% 117/117 [00:02<00:00, 56.35it/s]\n",
            "100% 117/117 [00:02<00:00, 56.75it/s]\n",
            "100% 117/117 [00:02<00:00, 55.57it/s]\n",
            "100% 117/117 [00:02<00:00, 56.47it/s]\n",
            "100% 117/117 [00:02<00:00, 56.24it/s]\n",
            "100% 117/117 [00:02<00:00, 56.05it/s]\n",
            "100% 117/117 [00:02<00:00, 55.36it/s]\n",
            "100% 117/117 [00:02<00:00, 55.36it/s]\n",
            "100% 117/117 [00:02<00:00, 55.49it/s]\n",
            "100% 117/117 [00:02<00:00, 55.53it/s]\n",
            "100% 117/117 [00:02<00:00, 57.18it/s]\n",
            "100% 117/117 [00:02<00:00, 56.80it/s]\n",
            "100% 117/117 [00:02<00:00, 55.72it/s]\n",
            "100% 117/117 [00:02<00:00, 56.12it/s]\n",
            "100% 117/117 [00:02<00:00, 56.44it/s]\n",
            "100% 117/117 [00:02<00:00, 56.99it/s]\n",
            "100% 117/117 [00:03<00:00, 37.67it/s]\n",
            "100% 117/117 [00:02<00:00, 55.35it/s]\n",
            "100% 117/117 [00:02<00:00, 55.79it/s]\n",
            "100% 117/117 [00:02<00:00, 57.98it/s]\n",
            "100% 117/117 [00:02<00:00, 54.50it/s]\n",
            "100% 117/117 [00:02<00:00, 55.09it/s]\n",
            "100% 117/117 [00:02<00:00, 56.12it/s]\n",
            "100% 117/117 [00:02<00:00, 57.20it/s]\n",
            "100% 117/117 [00:02<00:00, 56.86it/s]\n",
            "100% 117/117 [00:02<00:00, 57.36it/s]\n",
            "100% 117/117 [00:02<00:00, 55.65it/s]\n",
            "100% 117/117 [00:02<00:00, 57.65it/s]\n",
            "100% 117/117 [00:02<00:00, 56.19it/s]\n",
            "100% 117/117 [00:02<00:00, 56.83it/s]\n",
            "100% 117/117 [00:02<00:00, 55.30it/s]\n",
            "100% 117/117 [00:02<00:00, 56.64it/s]\n",
            "100% 117/117 [00:02<00:00, 56.04it/s]\n",
            "100% 117/117 [00:02<00:00, 56.83it/s]\n",
            "100% 117/117 [00:02<00:00, 56.66it/s]\n",
            "100% 117/117 [00:02<00:00, 56.67it/s]\n",
            "100% 117/117 [00:02<00:00, 56.78it/s]\n",
            "100% 117/117 [00:02<00:00, 57.16it/s]\n",
            "100% 117/117 [00:02<00:00, 55.79it/s]\n",
            "100% 117/117 [00:02<00:00, 56.54it/s]\n",
            "100% 117/117 [00:02<00:00, 56.06it/s]\n",
            "100% 117/117 [00:02<00:00, 55.08it/s]\n",
            "100% 117/117 [00:02<00:00, 56.21it/s]\n",
            "100% 117/117 [00:02<00:00, 56.86it/s]\n",
            "100% 117/117 [00:02<00:00, 56.32it/s]\n",
            "100% 117/117 [00:02<00:00, 56.78it/s]\n",
            "100% 117/117 [00:02<00:00, 56.74it/s]\n",
            "100% 117/117 [00:02<00:00, 57.39it/s]\n",
            "100% 117/117 [00:02<00:00, 56.48it/s]\n",
            "100% 117/117 [00:02<00:00, 57.83it/s]\n",
            "100% 117/117 [00:02<00:00, 56.36it/s]\n",
            "100% 117/117 [00:02<00:00, 56.91it/s]\n",
            "100% 117/117 [00:02<00:00, 56.68it/s]\n",
            "100% 117/117 [00:02<00:00, 56.57it/s]\n",
            "100% 117/117 [00:02<00:00, 56.20it/s]\n",
            "100% 117/117 [00:02<00:00, 57.10it/s]\n",
            "100% 117/117 [00:02<00:00, 56.76it/s]\n",
            "100% 117/117 [00:02<00:00, 57.17it/s]\n",
            "100% 117/117 [00:02<00:00, 56.01it/s]\n",
            "100% 117/117 [00:02<00:00, 57.74it/s]\n",
            "100% 117/117 [00:02<00:00, 56.76it/s]\n",
            "100% 117/117 [00:02<00:00, 56.97it/s]\n",
            "100% 117/117 [00:02<00:00, 56.96it/s]\n",
            "100% 117/117 [00:02<00:00, 57.26it/s]\n",
            "100% 117/117 [00:02<00:00, 55.97it/s]\n",
            "100% 117/117 [00:02<00:00, 57.15it/s]\n",
            "100% 117/117 [00:02<00:00, 56.42it/s]\n",
            " 13% 15/117 [00:00<00:05, 17.63it/s]\n",
            "Traceback (most recent call last):\n",
            "  File \"./src/train.py\", line 62, in <module>\n",
            "    run_training()\n",
            "  File \"./src/train.py\", line 60, in run_training\n",
            "    valid_loss = engine.eval_fn(model,train_DataLoader)\n",
            "  File \"/content/DL/src/engine.py\", line 26, in eval_fn\n",
            "    data[k] = v.to(config.DEVICE)\n",
            "KeyboardInterrupt\n"
          ]
        }
      ]
    },
    {
      "cell_type": "code",
      "source": [],
      "metadata": {
        "id": "Znp9C-GvC1X8"
      },
      "execution_count": null,
      "outputs": []
    }
  ]
}