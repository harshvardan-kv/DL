{
  "nbformat": 4,
  "nbformat_minor": 0,
  "metadata": {
    "colab": {
      "provenance": [],
      "collapsed_sections": [],
      "authorship_tag": "ABX9TyMrNypoclE6JStKXRBmnvY9",
      "include_colab_link": true
    },
    "kernelspec": {
      "name": "python3",
      "display_name": "Python 3"
    },
    "language_info": {
      "name": "python"
    }
  },
  "cells": [
    {
      "cell_type": "markdown",
      "metadata": {
        "id": "view-in-github",
        "colab_type": "text"
      },
      "source": [
        "<a href=\"https://colab.research.google.com/github/harshvardan-kv/DL/blob/dev2/GP.ipynb\" target=\"_parent\"><img src=\"https://colab.research.google.com/assets/colab-badge.svg\" alt=\"Open In Colab\"/></a>"
      ]
    },
    {
      "cell_type": "code",
      "source": [
        "token = \"******\"\n",
        "username = \"harshvardan-kv\""
      ],
      "metadata": {
        "id": "8jZd-fwjOWg2"
      },
      "execution_count": 17,
      "outputs": []
    },
    {
      "cell_type": "code",
      "source": [
        "\n",
        "%%writefile readme.md\n",
        "hi there\n",
        "\n"
      ],
      "metadata": {
        "colab": {
          "base_uri": "https://localhost:8080/"
        },
        "id": "lYzRX6gNTucq",
        "outputId": "f64a5037-031a-453b-997c-d53a63a09816"
      },
      "execution_count": 8,
      "outputs": [
        {
          "output_type": "stream",
          "name": "stdout",
          "text": [
            "Writing readme.md\n"
          ]
        }
      ]
    },
    {
      "cell_type": "code",
      "source": [
        "%%writefile .gitignore\n",
        ".gitignore\n",
        "__pycache__\n",
        "/sample_data/\n",
        "/.config/"
      ],
      "metadata": {
        "colab": {
          "base_uri": "https://localhost:8080/"
        },
        "id": "TACIMl3DdhG4",
        "outputId": "3c460835-8105-43f8-dbbd-b11ca7b2e18f"
      },
      "execution_count": 9,
      "outputs": [
        {
          "output_type": "stream",
          "name": "stdout",
          "text": [
            "Writing .gitignore\n"
          ]
        }
      ]
    },
    {
      "cell_type": "code",
      "source": [],
      "metadata": {
        "id": "FTD-3st9SvYd"
      },
      "execution_count": 1,
      "outputs": []
    },
    {
      "cell_type": "code",
      "source": [
        "!git init derivatives"
      ],
      "metadata": {
        "colab": {
          "base_uri": "https://localhost:8080/"
        },
        "id": "gzlPJA3tKrvg",
        "outputId": "594b6ed5-260b-468f-db0a-9c97dc3935da"
      },
      "execution_count": 2,
      "outputs": [
        {
          "output_type": "stream",
          "name": "stdout",
          "text": [
            "Initialized empty Git repository in /content/derivatives/.git/\n"
          ]
        }
      ]
    },
    {
      "cell_type": "code",
      "source": [
        "\n",
        "%cd derivatives"
      ],
      "metadata": {
        "colab": {
          "base_uri": "https://localhost:8080/"
        },
        "id": "G1dkVAFXNnH0",
        "outputId": "c94b2faf-0b47-445c-ccfc-b05da91428c9"
      },
      "execution_count": 6,
      "outputs": [
        {
          "output_type": "stream",
          "name": "stdout",
          "text": [
            "/content/derivatives\n"
          ]
        }
      ]
    },
    {
      "cell_type": "code",
      "source": [
        "\n",
        "!git add ."
      ],
      "metadata": {
        "id": "FiWcDtBLNs3j"
      },
      "execution_count": 7,
      "outputs": []
    },
    {
      "cell_type": "code",
      "source": [
        "!git remote add origin https://{token}@github.com/{username}/DL\n",
        "!git remote add origin https://github.com/harshvardan-kv/DL.git\n",
        "!git clone https://{token}@github.com/{username}/DL"
      ],
      "metadata": {
        "id": "jhVpUyCxNvdH"
      },
      "execution_count": 10,
      "outputs": []
    },
    {
      "cell_type": "code",
      "source": [],
      "metadata": {
        "colab": {
          "base_uri": "https://localhost:8080/"
        },
        "id": "QRVwCkShTQCS",
        "outputId": "846e867f-f7f3-4dc4-c1c8-e55545100acd"
      },
      "execution_count": 3,
      "outputs": [
        {
          "output_type": "stream",
          "name": "stdout",
          "text": [
            "Cloning into 'DL'...\n",
            "warning: You appear to have cloned an empty repository.\n"
          ]
        }
      ]
    },
    {
      "cell_type": "code",
      "source": [
        "%cd DL"
      ],
      "metadata": {
        "colab": {
          "base_uri": "https://localhost:8080/"
        },
        "id": "OARpSkprW91m",
        "outputId": "5741d253-d5e0-42b1-bd6a-60e3d39fe6de"
      },
      "execution_count": 4,
      "outputs": [
        {
          "output_type": "stream",
          "name": "stdout",
          "text": [
            "/content/DL\n"
          ]
        }
      ]
    },
    {
      "cell_type": "code",
      "source": [
        "pwd"
      ],
      "metadata": {
        "colab": {
          "base_uri": "https://localhost:8080/",
          "height": 35
        },
        "id": "mHLRlkTEXAgE",
        "outputId": "c7e585cf-58a0-494a-dd2e-cfb766351c76"
      },
      "execution_count": 5,
      "outputs": [
        {
          "output_type": "execute_result",
          "data": {
            "text/plain": [
              "'/content/DL'"
            ],
            "application/vnd.google.colaboratory.intrinsic+json": {
              "type": "string"
            }
          },
          "metadata": {},
          "execution_count": 5
        }
      ]
    },
    {
      "cell_type": "code",
      "source": [
        "\n",
        "!git init"
      ],
      "metadata": {
        "colab": {
          "base_uri": "https://localhost:8080/"
        },
        "id": "4249hxgCXDYV",
        "outputId": "e0516304-16ab-40d9-a114-190edf2cd866"
      },
      "execution_count": 7,
      "outputs": [
        {
          "output_type": "stream",
          "name": "stdout",
          "text": [
            "Reinitialized existing Git repository in /content/DL/.git/\n"
          ]
        }
      ]
    },
    {
      "cell_type": "code",
      "source": [
        "!git rm -r --cached ."
      ],
      "metadata": {
        "colab": {
          "base_uri": "https://localhost:8080/"
        },
        "id": "akfvKfKrdqPp",
        "outputId": "13c63e87-1c17-48e3-b122-f8b5622b282b"
      },
      "execution_count": 10,
      "outputs": [
        {
          "output_type": "stream",
          "name": "stdout",
          "text": [
            "rm '.config/.last_opt_in_prompt.yaml'\n",
            "rm '.config/.last_survey_prompt.yaml'\n",
            "rm '.config/.last_update_check.json'\n",
            "rm '.config/active_config'\n",
            "rm '.config/config_sentinel'\n",
            "rm '.config/configurations/config_default'\n",
            "rm '.config/gce'\n",
            "rm '.config/logs/2022.10.07/13.33.29.962578.log'\n",
            "rm '.config/logs/2022.10.07/13.33.55.059309.log'\n",
            "rm '.config/logs/2022.10.07/13.34.17.754134.log'\n",
            "rm '.config/logs/2022.10.07/13.34.26.675197.log'\n",
            "rm '.config/logs/2022.10.07/13.34.49.852351.log'\n",
            "rm '.config/logs/2022.10.07/13.34.50.628315.log'\n",
            "rm 'readme.md'\n",
            "rm 'sample_data/README.md'\n",
            "rm 'sample_data/anscombe.json'\n",
            "rm 'sample_data/california_housing_test.csv'\n",
            "rm 'sample_data/california_housing_train.csv'\n",
            "rm 'sample_data/mnist_test.csv'\n",
            "rm 'sample_data/mnist_train_small.csv'\n"
          ]
        }
      ]
    },
    {
      "cell_type": "code",
      "source": [
        "!git add ."
      ],
      "metadata": {
        "id": "HF3BJ2A6dwHj"
      },
      "execution_count": 9,
      "outputs": []
    },
    {
      "cell_type": "code",
      "source": [
        "!git status"
      ],
      "metadata": {
        "colab": {
          "base_uri": "https://localhost:8080/"
        },
        "id": "AgmHJ_F9d2Fl",
        "outputId": "2f58abd9-be7b-4afd-c8b6-81761e7d1187"
      },
      "execution_count": 11,
      "outputs": [
        {
          "output_type": "stream",
          "name": "stdout",
          "text": [
            "On branch master\n",
            "\n",
            "No commits yet\n",
            "\n",
            "Changes to be committed:\n",
            "  (use \"git rm --cached <file>...\" to unstage)\n",
            "\n",
            "\t\u001b[32mnew file:   derivates.ipynb\u001b[m\n",
            "\n"
          ]
        }
      ]
    },
    {
      "cell_type": "code",
      "source": [
        "\n",
        "!git config --global user.email \"harshvardan.kv@gmail.com\"\n",
        "!git config --global user.name \"hv\""
      ],
      "metadata": {
        "id": "VOJPfbGweOeg"
      },
      "execution_count": 12,
      "outputs": []
    },
    {
      "cell_type": "code",
      "source": [
        "!git commit -m \"firstcommit\""
      ],
      "metadata": {
        "colab": {
          "base_uri": "https://localhost:8080/"
        },
        "id": "DIJ4R-BJeFJf",
        "outputId": "e905f493-9df7-4c2b-ab1a-8dce2088efd2"
      },
      "execution_count": 13,
      "outputs": [
        {
          "output_type": "stream",
          "name": "stdout",
          "text": [
            "[master (root-commit) 7cb0a39] firstcommit\n",
            " 1 file changed, 1 insertion(+)\n",
            " create mode 100644 derivates.ipynb\n"
          ]
        }
      ]
    },
    {
      "cell_type": "code",
      "source": [
        "!git branch -M dev2"
      ],
      "metadata": {
        "id": "SU1binexd34v"
      },
      "execution_count": 20,
      "outputs": []
    },
    {
      "cell_type": "code",
      "source": [
        "!git pull origin dev"
      ],
      "metadata": {
        "colab": {
          "base_uri": "https://localhost:8080/"
        },
        "id": "dJHTQ4yMd9ia",
        "outputId": "53e9cb9c-3bc9-44d1-baeb-e55ba893a411"
      },
      "execution_count": 19,
      "outputs": [
        {
          "output_type": "stream",
          "name": "stdout",
          "text": [
            "From https://github.com/harshvardan-kv/DL\n",
            " * branch            dev        -> FETCH_HEAD\n",
            "fatal: refusing to merge unrelated histories\n"
          ]
        }
      ]
    },
    {
      "cell_type": "code",
      "source": [
        "!git push origin dev2"
      ],
      "metadata": {
        "colab": {
          "base_uri": "https://localhost:8080/"
        },
        "id": "0t5qwaPLei8n",
        "outputId": "fb488261-f0a5-443c-ebd1-6edfa2cd9ded"
      },
      "execution_count": 21,
      "outputs": [
        {
          "output_type": "stream",
          "name": "stdout",
          "text": [
            "Counting objects: 3, done.\n",
            "Writing objects:  33% (1/3)   \rWriting objects:  66% (2/3)   \rWriting objects: 100% (3/3)   \rWriting objects: 100% (3/3), 217 bytes | 217.00 KiB/s, done.\n",
            "Total 3 (delta 0), reused 0 (delta 0)\n",
            "remote: \n",
            "remote: Create a pull request for 'dev2' on GitHub by visiting:\u001b[K\n",
            "remote:      https://github.com/harshvardan-kv/DL/pull/new/dev2\u001b[K\n",
            "remote: \n",
            "To https://github.com/harshvardan-kv/DL\n",
            " * [new branch]      dev2 -> dev2\n"
          ]
        }
      ]
    },
    {
      "cell_type": "code",
      "source": [
        "\n",
        "!git remote -v"
      ],
      "metadata": {
        "colab": {
          "base_uri": "https://localhost:8080/"
        },
        "id": "22ASoFyienNx",
        "outputId": "5bbd8331-ebc3-4606-de71-71ac0d22531d"
      },
      "execution_count": 19,
      "outputs": [
        {
          "output_type": "stream",
          "name": "stdout",
          "text": [
            "origin\thttps://github.com/harshvardan-kv/DL.git (fetch)\n",
            "origin\thttps://github.com/harshvardan-kv/DL.git (push)\n"
          ]
        }
      ]
    },
    {
      "cell_type": "code",
      "source": [],
      "metadata": {
        "id": "pQSGLJZuUXh8"
      },
      "execution_count": null,
      "outputs": []
    }
  ]
}