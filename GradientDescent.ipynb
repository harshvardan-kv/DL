{
  "nbformat": 4,
  "nbformat_minor": 0,
  "metadata": {
    "colab": {
      "provenance": [],
      "collapsed_sections": [],
      "authorship_tag": "ABX9TyNKtHC7DO6G0hHIBtRI/bHC",
      "include_colab_link": true
    },
    "kernelspec": {
      "name": "python3",
      "display_name": "Python 3"
    },
    "language_info": {
      "name": "python"
    }
  },
  "cells": [
    {
      "cell_type": "markdown",
      "metadata": {
        "id": "view-in-github",
        "colab_type": "text"
      },
      "source": [
        "<a href=\"https://colab.research.google.com/github/harshvardan-kv/DL/blob/dev/GradientDescent.ipynb\" target=\"_parent\"><img src=\"https://colab.research.google.com/assets/colab-badge.svg\" alt=\"Open In Colab\"/></a>"
      ]
    },
    {
      "cell_type": "markdown",
      "source": [
        "<h1> Derivative , Partial Derivative & gradient </h1>"
      ],
      "metadata": {
        "id": "yyYTvrm-W72o"
      }
    },
    {
      "cell_type": "code",
      "source": [
        "X = [0.5,0.2]\n",
        "Y = [0.2, 0.9]"
      ],
      "metadata": {
        "id": "06fxL8psXF8U"
      },
      "execution_count": 1,
      "outputs": []
    },
    {
      "cell_type": "code",
      "source": [
        "import numpy as np\n",
        "\n",
        "def f(w,b,x):\n",
        "\n",
        "  return 1/(np.exp-(w*x + b))\n",
        "\n",
        "def error(w,b):\n",
        "\n",
        "  err = 0.0\n",
        "  for x,y in zip(X,Y):\n",
        "    fx = f(w,b,x)\n",
        "    err += 0.5*(fx - y)**2\n",
        "  return error\n",
        "\n",
        "def grad_b(w,b,x,y):\n",
        "  fx = f(w,b,x)\n",
        "  return (fx - y) * fx * (1-fx)\n",
        "\n",
        "def grad_w(w,b,x,y):\n",
        "  fx = f(w,b,x)\n",
        "  return (fx - y) * fx * (1-fx) * x\n",
        "\n",
        "def do_gradient_descent():\n",
        "  w,b, lr = -2, -2, 1.0\n",
        "  max_epoch = 1000\n",
        "  for i in range(max_epcoh):\n",
        "    dw,db = 0, 0\n",
        "    for x , y in zip(X,Y):\n",
        "      dw += grad_w(w,b,x,y)\n",
        "      db += grad_w(w,b,x,y)\n",
        "    \n",
        "    w = w - lr * dw\n",
        "    b = b - lr * db\n",
        "\n",
        "  pass\n",
        "\n"
      ],
      "metadata": {
        "id": "yGA4YwzQXLoZ"
      },
      "execution_count": 2,
      "outputs": []
    },
    {
      "cell_type": "code",
      "source": [],
      "metadata": {
        "id": "TrY5ZjPWXZlJ"
      },
      "execution_count": null,
      "outputs": []
    }
  ]
}