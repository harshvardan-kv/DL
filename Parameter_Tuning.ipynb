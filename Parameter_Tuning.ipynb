{
  "nbformat": 4,
  "nbformat_minor": 0,
  "metadata": {
    "colab": {
      "provenance": [],
      "authorship_tag": "ABX9TyOirbVGmM85+564QsP5BprS",
      "include_colab_link": true
    },
    "kernelspec": {
      "name": "python3",
      "display_name": "Python 3"
    },
    "language_info": {
      "name": "python"
    }
  },
  "cells": [
    {
      "cell_type": "markdown",
      "metadata": {
        "id": "view-in-github",
        "colab_type": "text"
      },
      "source": [
        "<a href=\"https://colab.research.google.com/github/harshvardan-kv/DL/blob/hyperTuning/Parameter_Tuning.ipynb\" target=\"_parent\"><img src=\"https://colab.research.google.com/assets/colab-badge.svg\" alt=\"Open In Colab\"/></a>"
      ]
    },
    {
      "cell_type": "code",
      "execution_count": 33,
      "metadata": {
        "colab": {
          "base_uri": "https://localhost:8080/"
        },
        "id": "JY9h09LhyGQp",
        "outputId": "92ff40f7-06d5-4ab3-98e3-fde8fc1c42ba"
      },
      "outputs": [
        {
          "output_type": "stream",
          "name": "stdout",
          "text": [
            "Reinitialized existing Git repository in /content/src/.git/\n"
          ]
        }
      ],
      "source": [
        "!git init "
      ]
    },
    {
      "cell_type": "code",
      "source": [
        "%cd DL"
      ],
      "metadata": {
        "colab": {
          "base_uri": "https://localhost:8080/"
        },
        "id": "nRhwwK67yOGm",
        "outputId": "4d6516da-3395-4413-b5d8-280f93a3babf"
      },
      "execution_count": 13,
      "outputs": [
        {
          "output_type": "stream",
          "name": "stdout",
          "text": [
            "/content/DL\n"
          ]
        }
      ]
    },
    {
      "cell_type": "code",
      "source": [
        "!git add ."
      ],
      "metadata": {
        "id": "KFrzKqjlyW9g"
      },
      "execution_count": 14,
      "outputs": []
    },
    {
      "cell_type": "code",
      "source": [
        "!git status"
      ],
      "metadata": {
        "colab": {
          "base_uri": "https://localhost:8080/"
        },
        "id": "DL8eldJ7yyOz",
        "outputId": "08f5ac3d-4a1e-489d-f1e4-f85d05c5ab3f"
      },
      "execution_count": 15,
      "outputs": [
        {
          "output_type": "stream",
          "name": "stdout",
          "text": [
            "On branch hyperTuning\n",
            "Your branch is up to date with 'origin/hyperTuning'.\n",
            "\n",
            "Changes to be committed:\n",
            "  (use \"git reset HEAD <file>...\" to unstage)\n",
            "\n",
            "\t\u001b[32mnew file:   requirments.txt\u001b[m\n",
            "\t\u001b[32mnew file:   test.py\u001b[m\n",
            "\n"
          ]
        }
      ]
    },
    {
      "cell_type": "code",
      "source": [
        "token = \"**\"\n",
        "username = \"harshvardan-kv\""
      ],
      "metadata": {
        "id": "7Nne8r8Z0HsD"
      },
      "execution_count": 1,
      "outputs": []
    },
    {
      "cell_type": "code",
      "source": [
        "!git clone -b hyperTuning https://{token}@github.com/{username}/DL"
      ],
      "metadata": {
        "colab": {
          "base_uri": "https://localhost:8080/"
        },
        "id": "xaES_LmYC8Ki",
        "outputId": "232fb571-5a8d-4f37-c4e6-9be444a793aa"
      },
      "execution_count": 2,
      "outputs": [
        {
          "output_type": "stream",
          "name": "stdout",
          "text": [
            "Cloning into 'DL'...\n",
            "remote: Enumerating objects: 32, done.\u001b[K\n",
            "remote: Counting objects: 100% (32/32), done.\u001b[K\n",
            "remote: Compressing objects: 100% (27/27), done.\u001b[K\n",
            "remote: Total 32 (delta 8), reused 11 (delta 0), pack-reused 0\u001b[K\n",
            "Unpacking objects: 100% (32/32), done.\n"
          ]
        }
      ]
    },
    {
      "cell_type": "code",
      "source": [
        "!git clone https://{token}@github.com/{username}/DL"
      ],
      "metadata": {
        "colab": {
          "base_uri": "https://localhost:8080/"
        },
        "id": "SBiVcJ3bBa2D",
        "outputId": "6939bd8d-95ab-49d1-aaec-1e44dcb00ac7"
      },
      "execution_count": 4,
      "outputs": [
        {
          "output_type": "stream",
          "name": "stdout",
          "text": [
            "Cloning into 'DL'...\n",
            "remote: Enumerating objects: 29, done.\u001b[K\n",
            "remote: Counting objects: 100% (29/29), done.\u001b[K\n",
            "remote: Compressing objects: 100% (24/24), done.\u001b[K\n",
            "remote: Total 29 (delta 6), reused 11 (delta 0), pack-reused 0\u001b[K\n",
            "Unpacking objects: 100% (29/29), done.\n"
          ]
        }
      ]
    },
    {
      "cell_type": "code",
      "source": [
        "!git remote add origin1 https://{token}@github.com/{username}/DL"
      ],
      "metadata": {
        "id": "0rebV3_7y0Hk"
      },
      "execution_count": 22,
      "outputs": []
    },
    {
      "cell_type": "code",
      "source": [
        "!git checkout -b hyperTuning"
      ],
      "metadata": {
        "colab": {
          "base_uri": "https://localhost:8080/"
        },
        "id": "SpTFc2YcB2vU",
        "outputId": "fb97ad95-f816-4603-b1aa-fd85411a004b"
      },
      "execution_count": 17,
      "outputs": [
        {
          "output_type": "stream",
          "name": "stdout",
          "text": [
            "fatal: A branch named 'hyperTuning' already exists.\n"
          ]
        }
      ]
    },
    {
      "cell_type": "code",
      "source": [
        "!git checkout -b hyperTuning"
      ],
      "metadata": {
        "colab": {
          "base_uri": "https://localhost:8080/"
        },
        "id": "hHpVbljhCYSe",
        "outputId": "48d5547d-b566-480e-b1f3-0a89a0e1090b"
      },
      "execution_count": 7,
      "outputs": [
        {
          "output_type": "stream",
          "name": "stdout",
          "text": [
            "Switched to a new branch 'hyperTuning'\n"
          ]
        }
      ]
    },
    {
      "cell_type": "code",
      "source": [
        "\n",
        "!git config --global user.email \"harshvardan@gmail.com\"\n",
        "!git config --global user.name \"h\""
      ],
      "metadata": {
        "id": "MRSnrPTizpEU"
      },
      "execution_count": 18,
      "outputs": []
    },
    {
      "cell_type": "code",
      "source": [
        "!git commit -m \"pushing Data\""
      ],
      "metadata": {
        "colab": {
          "base_uri": "https://localhost:8080/"
        },
        "id": "yw1OkvUyzagK",
        "outputId": "5691fc14-1558-46a1-fcb7-869b3a331b75"
      },
      "execution_count": 19,
      "outputs": [
        {
          "output_type": "stream",
          "name": "stdout",
          "text": [
            "[hyperTuning 5de98e7] pushing Data\n",
            " 2 files changed, 9 insertions(+)\n",
            " create mode 100644 requirments.txt\n",
            " create mode 100644 test.py\n"
          ]
        }
      ]
    },
    {
      "cell_type": "code",
      "source": [
        "!git branch -M hyperTuning"
      ],
      "metadata": {
        "id": "bj8Ray-azfD_"
      },
      "execution_count": 20,
      "outputs": []
    },
    {
      "cell_type": "code",
      "source": [
        "!git push origin1 hyperTuning"
      ],
      "metadata": {
        "colab": {
          "base_uri": "https://localhost:8080/"
        },
        "id": "PRp0ebaTz56c",
        "outputId": "47be1b1c-ce22-4d4f-a431-8a98088fec6b"
      },
      "execution_count": 23,
      "outputs": [
        {
          "output_type": "stream",
          "name": "stdout",
          "text": [
            "Counting objects: 4, done.\n",
            "Delta compression using up to 2 threads.\n",
            "Compressing objects:  33% (1/3)   \rCompressing objects:  66% (2/3)   \rCompressing objects: 100% (3/3)   \rCompressing objects: 100% (3/3), done.\n",
            "Writing objects:  25% (1/4)   \rWriting objects:  50% (2/4)   \rWriting objects:  75% (3/4)   \rWriting objects: 100% (4/4)   \rWriting objects: 100% (4/4), 508 bytes | 508.00 KiB/s, done.\n",
            "Total 4 (delta 0), reused 0 (delta 0)\n",
            "To https://github.com/harshvardan-kv/DL\n",
            "   d8181ec..5de98e7  hyperTuning -> hyperTuning\n"
          ]
        }
      ]
    },
    {
      "cell_type": "code",
      "source": [
        "!git status"
      ],
      "metadata": {
        "colab": {
          "base_uri": "https://localhost:8080/"
        },
        "id": "nzEcCrRR0AfW",
        "outputId": "4340ea90-719e-4ef5-d1f9-c428f0a6b697"
      },
      "execution_count": 18,
      "outputs": [
        {
          "output_type": "stream",
          "name": "stdout",
          "text": [
            "On branch hyperTuning\n",
            "nothing to commit, working tree clean\n"
          ]
        }
      ]
    },
    {
      "cell_type": "code",
      "source": [
        "import pandas as pd\n",
        "import numpy as np\n",
        "from sklearn import ensemble\n",
        "from sklearn import metrics\n",
        "from sklearn import model_selection"
      ],
      "metadata": {
        "id": "hvI2Wf6Z0hKG"
      },
      "execution_count": 13,
      "outputs": []
    },
    {
      "cell_type": "code",
      "source": [
        "if __name__ == \"__main__\":\n",
        "  df = pd.read_csv(\"./Data/train.csv\")\n",
        "  X = df.drop(\"price_range\",axis=1).values\n",
        "  Y = df['price_range'].values\n",
        "\n",
        "  classifier = ensemble.RandomForestClassifier(n_jobs = -1)\n",
        "  parameters = {\n",
        "      \"n_estimators\" :[100,200,300,400],\n",
        "      \"max_depth\": [1,3,5],\n",
        "      \"criterion\" : [\"gini\",\"entropy\"]\n",
        "      \n",
        "  }\n",
        "  model = model_selection.GridSearchCV(\n",
        "      estimator = classifier,\n",
        "      param_grid = parameters,\n",
        "      scoring = \"accuracy\",\n",
        "      verbose = 10,\n",
        "      n_jobs=-1,\n",
        "      cv = 5\n",
        "  )\n",
        "  model.fit(X,Y)"
      ],
      "metadata": {
        "id": "BJs-JMYh7Vjr"
      },
      "execution_count": null,
      "outputs": []
    },
    {
      "cell_type": "code",
      "source": [
        "print(model.best_score_)"
      ],
      "metadata": {
        "colab": {
          "base_uri": "https://localhost:8080/"
        },
        "id": "zhDAibNc7pan",
        "outputId": "71dac35c-deeb-4601-aa66-5a4e46f89b67"
      },
      "execution_count": 31,
      "outputs": [
        {
          "output_type": "stream",
          "name": "stdout",
          "text": [
            "0.8484999999999999\n"
          ]
        }
      ]
    },
    {
      "cell_type": "code",
      "source": [
        "print(model.best_estimator_.get_params())"
      ],
      "metadata": {
        "colab": {
          "base_uri": "https://localhost:8080/"
        },
        "id": "JzEKPiw87qwB",
        "outputId": "9fc29617-a3e8-4fe2-e976-dcea617e7809"
      },
      "execution_count": 32,
      "outputs": [
        {
          "output_type": "stream",
          "name": "stdout",
          "text": [
            "{'bootstrap': True, 'ccp_alpha': 0.0, 'class_weight': None, 'criterion': 'gini', 'max_depth': 5, 'max_features': 'auto', 'max_leaf_nodes': None, 'max_samples': None, 'min_impurity_decrease': 0.0, 'min_samples_leaf': 1, 'min_samples_split': 2, 'min_weight_fraction_leaf': 0.0, 'n_estimators': 400, 'n_jobs': -1, 'oob_score': False, 'random_state': None, 'verbose': 0, 'warm_start': False}\n"
          ]
        }
      ]
    },
    {
      "cell_type": "code",
      "source": [
        "if __name__ == \"__main__\":\n",
        "  df = pd.read_csv(\"./DL/Data/train.csv\")\n",
        "  X = df.drop(\"price_range\",axis=1).values\n",
        "  Y = df['price_range'].values\n",
        "\n",
        "  classifier = ensemble.RandomForestClassifier(n_jobs = -1)\n",
        "  parameters = {\n",
        "      \"n_estimators\" :np.arange(100,1500,100),\n",
        "      \"max_depth\": np.arange(1,15,2),\n",
        "      \"criterion\" : [\"gini\",\"entropy\"]\n",
        "      \n",
        "  }\n",
        "  model = model_selection.RandomizedSearchCV(\n",
        "      estimator = classifier,\n",
        "      param_distributions = parameters,\n",
        "      n_iter=10,\n",
        "      scoring = \"accuracy\",\n",
        "      verbose = 10,\n",
        "      n_jobs=-1,\n",
        "      cv = 5\n",
        "  )\n",
        "  model.fit(X,Y)"
      ],
      "metadata": {
        "colab": {
          "base_uri": "https://localhost:8080/"
        },
        "id": "aWrDXgVP-Dof",
        "outputId": "eb233b30-3256-4cd3-e8ed-2225b8c1123a"
      },
      "execution_count": 17,
      "outputs": [
        {
          "output_type": "stream",
          "name": "stdout",
          "text": [
            "Fitting 5 folds for each of 10 candidates, totalling 50 fits\n"
          ]
        }
      ]
    },
    {
      "cell_type": "code",
      "source": [
        "print(model.best_score_)"
      ],
      "metadata": {
        "colab": {
          "base_uri": "https://localhost:8080/"
        },
        "id": "zj9Gy1ONDpAV",
        "outputId": "0dd8728e-96cb-48f2-acf0-7aef2f498b1f"
      },
      "execution_count": 18,
      "outputs": [
        {
          "output_type": "stream",
          "name": "stdout",
          "text": [
            "0.8855000000000001\n"
          ]
        }
      ]
    },
    {
      "cell_type": "code",
      "source": [
        "print(model.best_estimator_.get_params())"
      ],
      "metadata": {
        "colab": {
          "base_uri": "https://localhost:8080/"
        },
        "id": "8IlmzZUxEdPF",
        "outputId": "aec9be96-99d7-400a-eefb-89b62b179579"
      },
      "execution_count": 19,
      "outputs": [
        {
          "output_type": "stream",
          "name": "stdout",
          "text": [
            "{'bootstrap': True, 'ccp_alpha': 0.0, 'class_weight': None, 'criterion': 'entropy', 'max_depth': 9, 'max_features': 'auto', 'max_leaf_nodes': None, 'max_samples': None, 'min_impurity_decrease': 0.0, 'min_samples_leaf': 1, 'min_samples_split': 2, 'min_weight_fraction_leaf': 0.0, 'n_estimators': 1400, 'n_jobs': -1, 'oob_score': False, 'random_state': None, 'verbose': 0, 'warm_start': False}\n"
          ]
        }
      ]
    },
    {
      "cell_type": "code",
      "source": [
        "import pandas as pd\n",
        "import numpy as np\n",
        "from sklearn import ensemble\n",
        "from sklearn import metrics\n",
        "from sklearn import model_selection\n",
        "\n",
        "from sklearn import preprocessing\n",
        "from sklearn import decomposition\n",
        "from sklearn import pipeline"
      ],
      "metadata": {
        "id": "YgGo67RhEfFU"
      },
      "execution_count": 39,
      "outputs": []
    },
    {
      "cell_type": "code",
      "source": [
        "if __name__ == \"__main__\":\n",
        "  df = pd.read_csv(\"./DL/Data/train.csv\")\n",
        "  X = df.drop(\"price_range\",axis=1).values\n",
        "  Y = df['price_range'].values\n",
        "\n",
        "  scl = preprocessing.StandardScaler()\n",
        "  pca = decomposition.PCA()\n",
        "  rf = ensemble.RandomForestClassifier(n_jobs = -1)\n",
        "\n",
        "  classifier = pipeline.Pipeline(\n",
        "      [\n",
        "          (\"scaling\",scl),\n",
        "          (\"pca\",pca),\n",
        "          (\"rf\",rf)\n",
        "      ]\n",
        "  )\n",
        "\n",
        "  parameters = {\n",
        "      \"pca__n_components\": np.arange(5,10),\n",
        "      \"rf__n_estimators\" :np.arange(100,1500,100),\n",
        "      \"rf__max_depth\": np.arange(1,15,2),\n",
        "      \"rf__criterion\" : [\"gini\",\"entropy\"]\n",
        "      \n",
        "  }\n",
        "  model = model_selection.RandomizedSearchCV(\n",
        "      estimator = classifier,\n",
        "      param_distributions = parameters,\n",
        "      n_iter=10,\n",
        "      scoring = \"accuracy\",\n",
        "      verbose = 10,\n",
        "      n_jobs=-1,\n",
        "      cv = 5\n",
        "  )\n",
        "  model.fit(X,Y)"
      ],
      "metadata": {
        "colab": {
          "base_uri": "https://localhost:8080/"
        },
        "id": "ft3qCBn7GY0z",
        "outputId": "6c321dc4-28e6-44a4-a742-5ae737c61887"
      },
      "execution_count": 40,
      "outputs": [
        {
          "output_type": "stream",
          "name": "stdout",
          "text": [
            "Fitting 5 folds for each of 10 candidates, totalling 50 fits\n"
          ]
        }
      ]
    },
    {
      "cell_type": "markdown",
      "source": [
        "Gaussian process"
      ],
      "metadata": {
        "id": "JSO0IngoG31w"
      }
    },
    {
      "cell_type": "code",
      "source": [
        "!pip install pipenv"
      ],
      "metadata": {
        "colab": {
          "base_uri": "https://localhost:8080/"
        },
        "id": "-ZUUOcz6GMGY",
        "outputId": "3ae85073-90d3-4529-ab91-62c63f08f1dc"
      },
      "execution_count": 3,
      "outputs": [
        {
          "output_type": "stream",
          "name": "stdout",
          "text": [
            "Looking in indexes: https://pypi.org/simple, https://us-python.pkg.dev/colab-wheels/public/simple/\n",
            "Collecting pipenv\n",
            "  Downloading pipenv-2022.10.12-py2.py3-none-any.whl (3.3 MB)\n",
            "\u001b[K     |████████████████████████████████| 3.3 MB 5.0 MB/s \n",
            "\u001b[?25hRequirement already satisfied: certifi in /usr/local/lib/python3.7/dist-packages (from pipenv) (2022.9.24)\n",
            "Requirement already satisfied: setuptools>=36.2.1 in /usr/local/lib/python3.7/dist-packages (from pipenv) (57.4.0)\n",
            "Collecting virtualenv-clone>=0.2.5\n",
            "  Downloading virtualenv_clone-0.5.7-py3-none-any.whl (6.6 kB)\n",
            "Collecting virtualenv\n",
            "  Downloading virtualenv-20.16.5-py3-none-any.whl (8.8 MB)\n",
            "\u001b[K     |████████████████████████████████| 8.8 MB 40.8 MB/s \n",
            "\u001b[?25hRequirement already satisfied: importlib-metadata>=4.8.3 in /usr/local/lib/python3.7/dist-packages (from virtualenv->pipenv) (5.0.0)\n",
            "Collecting platformdirs<3,>=2.4\n",
            "  Downloading platformdirs-2.5.2-py3-none-any.whl (14 kB)\n",
            "Requirement already satisfied: filelock<4,>=3.4.1 in /usr/local/lib/python3.7/dist-packages (from virtualenv->pipenv) (3.8.0)\n",
            "Collecting distlib<1,>=0.3.5\n",
            "  Downloading distlib-0.3.6-py2.py3-none-any.whl (468 kB)\n",
            "\u001b[K     |████████████████████████████████| 468 kB 46.6 MB/s \n",
            "\u001b[?25hRequirement already satisfied: zipp>=0.5 in /usr/local/lib/python3.7/dist-packages (from importlib-metadata>=4.8.3->virtualenv->pipenv) (3.9.0)\n",
            "Requirement already satisfied: typing-extensions>=3.6.4 in /usr/local/lib/python3.7/dist-packages (from importlib-metadata>=4.8.3->virtualenv->pipenv) (4.1.1)\n",
            "Installing collected packages: platformdirs, distlib, virtualenv-clone, virtualenv, pipenv\n",
            "Successfully installed distlib-0.3.6 pipenv-2022.10.12 platformdirs-2.5.2 virtualenv-20.16.5 virtualenv-clone-0.5.7\n"
          ]
        }
      ]
    },
    {
      "cell_type": "code",
      "source": [
        "!pipenv shell"
      ],
      "metadata": {
        "colab": {
          "base_uri": "https://localhost:8080/"
        },
        "id": "uMtmVujtGp40",
        "outputId": "e82bf86f-31d1-48e4-c15e-7d9ecca5e4b8"
      },
      "execution_count": 6,
      "outputs": [
        {
          "output_type": "stream",
          "name": "stdout",
          "text": [
            "\u001b[1mCreating a virtualenv for this project...\u001b[0m\n",
            "Pipfile: \u001b[33m\u001b[1m/content/Pipfile\u001b[0m\n",
            "\u001b[1mUsing\u001b[0m \u001b[33m\u001b[1m/usr/local/bin/python\u001b[0m \u001b[32m(3.7.14)\u001b[0m \u001b[1mto create virtualenv...\u001b[0m\n",
            "⠧\u001b[0m Creating virtual environment...\u001b[K\u001b[36mcreated virtual environment CPython3.7.14.final.0-64 in 1147ms\n",
            "  creator Venv(dest=/root/.local/share/virtualenvs/content-cQIIIOO2, clear=False, no_vcs_ignore=False, global=False, describe=CPython3Posix)\n",
            "  seeder FromAppData(download=False, pip=bundle, setuptools=bundle, wheel=bundle, via=copy, app_data_dir=/root/.local/share/virtualenv)\n",
            "    added seed packages: pip==22.2.2, setuptools==65.3.0, wheel==0.37.1\n",
            "  activators BashActivator,CShellActivator,FishActivator,NushellActivator,PowerShellActivator,PythonActivator\n",
            "\u001b[0m\n",
            "\u001b[K\u001b[?25h\u001b[32m\u001b[22m✔ Successfully created virtual environment!\u001b[39m\u001b[22m\u001b[0m \n",
            "\u001b[32mVirtualenv location: /root/.local/share/virtualenvs/content-cQIIIOO2\u001b[0m\n",
            "\u001b[1mCreating a Pipfile for this project...\u001b[0m\n",
            "Launching subshell in virtual environment...\n",
            " . /root/.local/share/virtualenvs/content-cQIIIOO2/bin/activate\n",
            "\u001b[01;34m/content\u001b[00m#  . /root/.local/share/virtualenvs/content-cQIIIOO2/bin/activate\n",
            "(content) \u001b[01;34m/content\u001b[00m# pipenv shell\n",
            "Shell for\u001b[0m \u001b[32m\u001b[1m/root/.local/share/virtualenvs/content-cQIIIOO2\u001b[0m \u001b[1malready activated.\u001b[0m\n",
            "No action taken to avoid nested environments.\n",
            "\u001b[0m(content) \u001b[01;34m/content\u001b[00m# exit\n",
            "exit\n",
            "\u001b[0m"
          ]
        }
      ]
    },
    {
      "cell_type": "code",
      "source": [
        "!pipenv install scipy"
      ],
      "metadata": {
        "colab": {
          "base_uri": "https://localhost:8080/"
        },
        "id": "XRx2hJycGvAY",
        "outputId": "e904235a-6718-49b4-8a27-2050fe8ea977"
      },
      "execution_count": 7,
      "outputs": [
        {
          "output_type": "stream",
          "name": "stdout",
          "text": [
            "\u001b[32m\u001b[1mInstalling scipy...\u001b[0m\n",
            "\u001b[K\u001b[1mAdding\u001b[0m \u001b[32m\u001b[1mscipy\u001b[0m \u001b[1mto Pipfile's\u001b[0m \u001b[33m\u001b[1m[packages]\u001b[0m\u001b[1m...\u001b[0m\n",
            "\u001b[K\u001b[?25h✔ Installation Succeeded\u001b[0m \n",
            "\u001b[1mPipfile.lock not found, creating...\u001b[0m\n",
            "Locking\u001b[0m \u001b[33m[packages]\u001b[0m dependencies...\u001b[0m\n",
            "\u001b[KBuilding requirements...\n",
            "\u001b[KResolving dependencies...\n",
            "\u001b[K\u001b[?25h\u001b[32m\u001b[22m✔ Success!\u001b[39m\u001b[22m\u001b[0m \n",
            "Locking\u001b[0m \u001b[33m[dev-packages]\u001b[0m dependencies...\u001b[0m\n",
            "\u001b[1mUpdated Pipfile.lock (1ecd8d7d773403fe413602bc992c0085d25b5cca3d0658a4a84fdc590d460b80)!\u001b[0m\n",
            "\u001b[1mInstalling dependencies from Pipfile.lock (460b80)...\u001b[0m\n",
            "To activate this project's virtualenv, run \u001b[33mpipenv shell\u001b[0m.\n",
            "Alternatively, run a command inside the virtualenv with \u001b[33mpipenv run\u001b[0m.\n",
            "\u001b[0m"
          ]
        }
      ]
    },
    {
      "cell_type": "code",
      "source": [
        "!pip3 freeze > req.txt"
      ],
      "metadata": {
        "id": "FW5yadCQHSAd"
      },
      "execution_count": 27,
      "outputs": []
    },
    {
      "cell_type": "code",
      "source": [
        "!pipenv requirements > requirments.txt"
      ],
      "metadata": {
        "id": "ViSm1eKQHflL"
      },
      "execution_count": 12,
      "outputs": []
    },
    {
      "cell_type": "code",
      "source": [
        "%pwd"
      ],
      "metadata": {
        "colab": {
          "base_uri": "https://localhost:8080/",
          "height": 35
        },
        "id": "8db4YmOyIA1G",
        "outputId": "cf02b46d-1e76-4e23-a021-877819bda089"
      },
      "execution_count": 28,
      "outputs": [
        {
          "output_type": "execute_result",
          "data": {
            "text/plain": [
              "'/content/DL'"
            ],
            "application/vnd.google.colaboratory.intrinsic+json": {
              "type": "string"
            }
          },
          "metadata": {},
          "execution_count": 28
        }
      ]
    },
    {
      "cell_type": "code",
      "source": [
        "!pipenv run python test.py"
      ],
      "metadata": {
        "colab": {
          "base_uri": "https://localhost:8080/"
        },
        "id": "l_uIfsZlaBg0",
        "outputId": "805149ed-d186-43f3-d981-619c07922b0a"
      },
      "execution_count": 31,
      "outputs": [
        {
          "output_type": "stream",
          "name": "stdout",
          "text": [
            "Traceback (most recent call last):\n",
            "  File \"test.py\", line 2, in <module>\n",
            "    import matplotlib.pyplot as plt\n",
            "ModuleNotFoundError: No module named 'matplotlib'\n"
          ]
        }
      ]
    },
    {
      "cell_type": "code",
      "source": [],
      "metadata": {
        "id": "zl42wCuraFQq"
      },
      "execution_count": null,
      "outputs": []
    }
  ]
}