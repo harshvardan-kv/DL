{
  "nbformat": 4,
  "nbformat_minor": 0,
  "metadata": {
    "colab": {
      "provenance": [],
      "authorship_tag": "ABX9TyNTKxa2fHaNud/MKH5aoDON",
      "include_colab_link": true
    },
    "kernelspec": {
      "name": "python3",
      "display_name": "Python 3"
    },
    "language_info": {
      "name": "python"
    }
  },
  "cells": [
    {
      "cell_type": "markdown",
      "metadata": {
        "id": "view-in-github",
        "colab_type": "text"
      },
      "source": [
        "<a href=\"https://colab.research.google.com/github/harshvardan-kv/DL/blob/hyperTuning/Parameter_Tuning.ipynb\" target=\"_parent\"><img src=\"https://colab.research.google.com/assets/colab-badge.svg\" alt=\"Open In Colab\"/></a>"
      ]
    },
    {
      "cell_type": "code",
      "execution_count": 33,
      "metadata": {
        "colab": {
          "base_uri": "https://localhost:8080/"
        },
        "id": "JY9h09LhyGQp",
        "outputId": "92ff40f7-06d5-4ab3-98e3-fde8fc1c42ba"
      },
      "outputs": [
        {
          "output_type": "stream",
          "name": "stdout",
          "text": [
            "Reinitialized existing Git repository in /content/src/.git/\n"
          ]
        }
      ],
      "source": [
        "!git init "
      ]
    },
    {
      "cell_type": "code",
      "source": [
        "%cd .."
      ],
      "metadata": {
        "colab": {
          "base_uri": "https://localhost:8080/"
        },
        "id": "nRhwwK67yOGm",
        "outputId": "edf57f96-1ed0-4153-e288-3c91318a4aef"
      },
      "execution_count": 9,
      "outputs": [
        {
          "output_type": "stream",
          "name": "stdout",
          "text": [
            "/content\n"
          ]
        }
      ]
    },
    {
      "cell_type": "code",
      "source": [
        "!git add ."
      ],
      "metadata": {
        "id": "KFrzKqjlyW9g"
      },
      "execution_count": 3,
      "outputs": []
    },
    {
      "cell_type": "code",
      "source": [
        "!git status"
      ],
      "metadata": {
        "colab": {
          "base_uri": "https://localhost:8080/"
        },
        "id": "DL8eldJ7yyOz",
        "outputId": "ecce61ee-a0df-4da3-ba5e-73cacb606422"
      },
      "execution_count": 4,
      "outputs": [
        {
          "output_type": "stream",
          "name": "stdout",
          "text": [
            "On branch master\n",
            "\n",
            "No commits yet\n",
            "\n",
            "Changes to be committed:\n",
            "  (use \"git rm --cached <file>...\" to unstage)\n",
            "\n",
            "\t\u001b[32mnew file:   Data/test.csv\u001b[m\n",
            "\t\u001b[32mnew file:   Data/train.csv\u001b[m\n",
            "\n"
          ]
        }
      ]
    },
    {
      "cell_type": "code",
      "source": [
        "token = \"***\"\n",
        "username = \"harshvardan-kv\""
      ],
      "metadata": {
        "id": "7Nne8r8Z0HsD"
      },
      "execution_count": 34,
      "outputs": []
    },
    {
      "cell_type": "code",
      "source": [
        "!git clone -b hyperTuning https://{token}@github.com/{username}/DL"
      ],
      "metadata": {
        "colab": {
          "base_uri": "https://localhost:8080/"
        },
        "id": "xaES_LmYC8Ki",
        "outputId": "dc1f1da8-7c81-4dab-8bb8-a4e00d88d8cf"
      },
      "execution_count": 35,
      "outputs": [
        {
          "output_type": "stream",
          "name": "stdout",
          "text": [
            "Cloning into 'DL'...\n",
            "remote: Enumerating objects: 29, done.\u001b[K\n",
            "remote: Counting objects: 100% (29/29), done.\u001b[K\n",
            "remote: Compressing objects: 100% (24/24), done.\u001b[K\n",
            "remote: Total 29 (delta 6), reused 11 (delta 0), pack-reused 0\u001b[K\n",
            "Unpacking objects: 100% (29/29), done.\n"
          ]
        }
      ]
    },
    {
      "cell_type": "code",
      "source": [
        "!git clone https://{token}@github.com/{username}/DL"
      ],
      "metadata": {
        "colab": {
          "base_uri": "https://localhost:8080/"
        },
        "id": "SBiVcJ3bBa2D",
        "outputId": "6939bd8d-95ab-49d1-aaec-1e44dcb00ac7"
      },
      "execution_count": 4,
      "outputs": [
        {
          "output_type": "stream",
          "name": "stdout",
          "text": [
            "Cloning into 'DL'...\n",
            "remote: Enumerating objects: 29, done.\u001b[K\n",
            "remote: Counting objects: 100% (29/29), done.\u001b[K\n",
            "remote: Compressing objects: 100% (24/24), done.\u001b[K\n",
            "remote: Total 29 (delta 6), reused 11 (delta 0), pack-reused 0\u001b[K\n",
            "Unpacking objects: 100% (29/29), done.\n"
          ]
        }
      ]
    },
    {
      "cell_type": "code",
      "source": [
        "!git remote add origin1 https://{token}@github.com/{username}/DL"
      ],
      "metadata": {
        "id": "0rebV3_7y0Hk"
      },
      "execution_count": 16,
      "outputs": []
    },
    {
      "cell_type": "code",
      "source": [
        "!git checkout -b hyperTuning"
      ],
      "metadata": {
        "colab": {
          "base_uri": "https://localhost:8080/"
        },
        "id": "SpTFc2YcB2vU",
        "outputId": "da247fa7-17f9-4b6d-a93b-488b4be6c4a4"
      },
      "execution_count": 5,
      "outputs": [
        {
          "output_type": "stream",
          "name": "stdout",
          "text": [
            "Switched to a new branch 'hyperTuning'\n"
          ]
        }
      ]
    },
    {
      "cell_type": "code",
      "source": [
        "!git checkout -b hyperTuning"
      ],
      "metadata": {
        "colab": {
          "base_uri": "https://localhost:8080/"
        },
        "id": "hHpVbljhCYSe",
        "outputId": "48d5547d-b566-480e-b1f3-0a89a0e1090b"
      },
      "execution_count": 7,
      "outputs": [
        {
          "output_type": "stream",
          "name": "stdout",
          "text": [
            "Switched to a new branch 'hyperTuning'\n"
          ]
        }
      ]
    },
    {
      "cell_type": "code",
      "source": [
        "\n",
        "!git config --global user.email \"harshvardan@gmail.com\"\n",
        "!git config --global user.name \"h\""
      ],
      "metadata": {
        "id": "MRSnrPTizpEU"
      },
      "execution_count": 17,
      "outputs": []
    },
    {
      "cell_type": "code",
      "source": [
        "!git commit -m \"pushing Data\""
      ],
      "metadata": {
        "colab": {
          "base_uri": "https://localhost:8080/"
        },
        "id": "yw1OkvUyzagK",
        "outputId": "99ff6832-b968-4274-9e4e-cd6ce91ba9d6"
      },
      "execution_count": 9,
      "outputs": [
        {
          "output_type": "stream",
          "name": "stdout",
          "text": [
            "[master (root-commit) 6618190] pushing Data\n",
            " 2 files changed, 3002 insertions(+)\n",
            " create mode 100644 Data/test.csv\n",
            " create mode 100644 Data/train.csv\n"
          ]
        }
      ]
    },
    {
      "cell_type": "code",
      "source": [
        "!git branch -M hyperTuning"
      ],
      "metadata": {
        "id": "bj8Ray-azfD_"
      },
      "execution_count": 10,
      "outputs": []
    },
    {
      "cell_type": "code",
      "source": [
        "!git push origin1 hyperTuning"
      ],
      "metadata": {
        "colab": {
          "base_uri": "https://localhost:8080/"
        },
        "id": "PRp0ebaTz56c",
        "outputId": "29868efc-aa0b-4052-a4ef-276a2a12ae63"
      },
      "execution_count": 19,
      "outputs": [
        {
          "output_type": "stream",
          "name": "stdout",
          "text": [
            "Counting objects: 5, done.\n",
            "Delta compression using up to 2 threads.\n",
            "Compressing objects:  25% (1/4)   \rCompressing objects:  50% (2/4)   \rCompressing objects:  75% (3/4)   \rCompressing objects: 100% (4/4)   \rCompressing objects: 100% (4/4), done.\n",
            "Writing objects:  20% (1/5)   \rWriting objects:  40% (2/5)   \rWriting objects:  60% (3/5)   \rWriting objects:  80% (4/5)   \rWriting objects: 100% (5/5)   \rWriting objects: 100% (5/5), 68.16 KiB | 2.62 MiB/s, done.\n",
            "Total 5 (delta 0), reused 0 (delta 0)\n",
            "remote: \n",
            "remote: Create a pull request for 'hyperTuning' on GitHub by visiting:\u001b[K\n",
            "remote:      https://github.com/harshvardan-kv/DL/pull/new/hyperTuning\u001b[K\n",
            "remote: \n",
            "To https://github.com/harshvardan-kv/DL\n",
            " * [new branch]      hyperTuning -> hyperTuning\n"
          ]
        }
      ]
    },
    {
      "cell_type": "code",
      "source": [
        "!git status"
      ],
      "metadata": {
        "colab": {
          "base_uri": "https://localhost:8080/"
        },
        "id": "nzEcCrRR0AfW",
        "outputId": "4340ea90-719e-4ef5-d1f9-c428f0a6b697"
      },
      "execution_count": 18,
      "outputs": [
        {
          "output_type": "stream",
          "name": "stdout",
          "text": [
            "On branch hyperTuning\n",
            "nothing to commit, working tree clean\n"
          ]
        }
      ]
    },
    {
      "cell_type": "code",
      "source": [
        "import pandas as pd\n",
        "import numpy as np\n",
        "from sklearn import ensemble\n",
        "from sklearn import metrics\n",
        "from sklearn import model_selection"
      ],
      "metadata": {
        "id": "hvI2Wf6Z0hKG"
      },
      "execution_count": 13,
      "outputs": []
    },
    {
      "cell_type": "code",
      "source": [
        "if __name__ == \"__main__\":\n",
        "  df = pd.read_csv(\"./Data/train.csv\")\n",
        "  X = df.drop(\"price_range\",axis=1).values\n",
        "  Y = df['price_range'].values\n",
        "\n",
        "  classifier = ensemble.RandomForestClassifier(n_jobs = -1)\n",
        "  parameters = {\n",
        "      \"n_estimators\" :[100,200,300,400],\n",
        "      \"max_depth\": [1,3,5],\n",
        "      \"criterion\" : [\"gini\",\"entropy\"]\n",
        "      \n",
        "  }\n",
        "  model = model_selection.GridSearchCV(\n",
        "      estimator = classifier,\n",
        "      param_grid = parameters,\n",
        "      scoring = \"accuracy\",\n",
        "      verbose = 10,\n",
        "      n_jobs=-1,\n",
        "      cv = 5\n",
        "  )\n",
        "  model.fit(X,Y)"
      ],
      "metadata": {
        "id": "BJs-JMYh7Vjr"
      },
      "execution_count": null,
      "outputs": []
    },
    {
      "cell_type": "code",
      "source": [
        "print(model.best_score_)"
      ],
      "metadata": {
        "colab": {
          "base_uri": "https://localhost:8080/"
        },
        "id": "zhDAibNc7pan",
        "outputId": "71dac35c-deeb-4601-aa66-5a4e46f89b67"
      },
      "execution_count": 31,
      "outputs": [
        {
          "output_type": "stream",
          "name": "stdout",
          "text": [
            "0.8484999999999999\n"
          ]
        }
      ]
    },
    {
      "cell_type": "code",
      "source": [
        "print(model.best_estimator_.get_params())"
      ],
      "metadata": {
        "colab": {
          "base_uri": "https://localhost:8080/"
        },
        "id": "JzEKPiw87qwB",
        "outputId": "9fc29617-a3e8-4fe2-e976-dcea617e7809"
      },
      "execution_count": 32,
      "outputs": [
        {
          "output_type": "stream",
          "name": "stdout",
          "text": [
            "{'bootstrap': True, 'ccp_alpha': 0.0, 'class_weight': None, 'criterion': 'gini', 'max_depth': 5, 'max_features': 'auto', 'max_leaf_nodes': None, 'max_samples': None, 'min_impurity_decrease': 0.0, 'min_samples_leaf': 1, 'min_samples_split': 2, 'min_weight_fraction_leaf': 0.0, 'n_estimators': 400, 'n_jobs': -1, 'oob_score': False, 'random_state': None, 'verbose': 0, 'warm_start': False}\n"
          ]
        }
      ]
    },
    {
      "cell_type": "code",
      "source": [
        "if __name__ == \"__main__\":\n",
        "  df = pd.read_csv(\"./DL/Data/train.csv\")\n",
        "  X = df.drop(\"price_range\",axis=1).values\n",
        "  Y = df['price_range'].values\n",
        "\n",
        "  classifier = ensemble.RandomForestClassifier(n_jobs = -1)\n",
        "  parameters = {\n",
        "      \"n_estimators\" :np.arange(100,1500,100),\n",
        "      \"max_depth\": np.arange(1,15,2),\n",
        "      \"criterion\" : [\"gini\",\"entropy\"]\n",
        "      \n",
        "  }\n",
        "  model = model_selection.RandomizedSearchCV(\n",
        "      estimator = classifier,\n",
        "      param_distributions = parameters,\n",
        "      n_iter=10,\n",
        "      scoring = \"accuracy\",\n",
        "      verbose = 10,\n",
        "      n_jobs=-1,\n",
        "      cv = 5\n",
        "  )\n",
        "  model.fit(X,Y)"
      ],
      "metadata": {
        "colab": {
          "base_uri": "https://localhost:8080/"
        },
        "id": "aWrDXgVP-Dof",
        "outputId": "eb233b30-3256-4cd3-e8ed-2225b8c1123a"
      },
      "execution_count": 17,
      "outputs": [
        {
          "output_type": "stream",
          "name": "stdout",
          "text": [
            "Fitting 5 folds for each of 10 candidates, totalling 50 fits\n"
          ]
        }
      ]
    },
    {
      "cell_type": "code",
      "source": [
        "print(model.best_score_)"
      ],
      "metadata": {
        "colab": {
          "base_uri": "https://localhost:8080/"
        },
        "id": "zj9Gy1ONDpAV",
        "outputId": "0dd8728e-96cb-48f2-acf0-7aef2f498b1f"
      },
      "execution_count": 18,
      "outputs": [
        {
          "output_type": "stream",
          "name": "stdout",
          "text": [
            "0.8855000000000001\n"
          ]
        }
      ]
    },
    {
      "cell_type": "code",
      "source": [
        "print(model.best_estimator_.get_params())"
      ],
      "metadata": {
        "colab": {
          "base_uri": "https://localhost:8080/"
        },
        "id": "8IlmzZUxEdPF",
        "outputId": "aec9be96-99d7-400a-eefb-89b62b179579"
      },
      "execution_count": 19,
      "outputs": [
        {
          "output_type": "stream",
          "name": "stdout",
          "text": [
            "{'bootstrap': True, 'ccp_alpha': 0.0, 'class_weight': None, 'criterion': 'entropy', 'max_depth': 9, 'max_features': 'auto', 'max_leaf_nodes': None, 'max_samples': None, 'min_impurity_decrease': 0.0, 'min_samples_leaf': 1, 'min_samples_split': 2, 'min_weight_fraction_leaf': 0.0, 'n_estimators': 1400, 'n_jobs': -1, 'oob_score': False, 'random_state': None, 'verbose': 0, 'warm_start': False}\n"
          ]
        }
      ]
    },
    {
      "cell_type": "code",
      "source": [],
      "metadata": {
        "id": "YgGo67RhEfFU"
      },
      "execution_count": null,
      "outputs": []
    }
  ]
}